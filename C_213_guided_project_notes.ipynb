{
  "nbformat": 4,
  "nbformat_minor": 0,
  "metadata": {
    "colab": {
      "name": "213_guided_project_notes.ipynb",
      "provenance": [],
      "collapsed_sections": [],
      "include_colab_link": true
    },
    "kernelspec": {
      "name": "python3",
      "display_name": "Python 3"
    }
  },
  "cells": [
    {
      "cell_type": "markdown",
      "metadata": {
        "id": "view-in-github",
        "colab_type": "text"
      },
      "source": [
        "<a href=\"https://colab.research.google.com/github/jduell12/DS-Unit-2-Linear-Models/blob/master/C_213_guided_project_notes.ipynb\" target=\"_parent\"><img src=\"https://colab.research.google.com/assets/colab-badge.svg\" alt=\"Open In Colab\"/></a>"
      ]
    },
    {
      "cell_type": "code",
      "metadata": {
        "id": "k0dvbuCzd5qK"
      },
      "source": [
        "# Model Building\n",
        "from sklearn.feature_selection import SelectKBest, f_regression\n",
        "from sklearn.linear_model import LinearRegression, Ridge\n",
        "from sklearn.metrics import mean_absolute_error, mean_squared_error\n",
        "from sklearn.pipeline import make_pipeline\n",
        "import numpy as np\n",
        "import matplotlib.pyplot as plt\n",
        "import pandas as pd\n",
        "\n",
        "# For running this notebook either locally or in colab\n",
        "import sys"
      ],
      "execution_count": 1,
      "outputs": []
    },
    {
      "cell_type": "code",
      "metadata": {
        "id": "wz7tyC22gLEA"
      },
      "source": [
        "%%capture\n",
        "# If you're on Colab:\n",
        "if 'google.colab' in sys.modules:\n",
        "    DATA_PATH = 'https://raw.githubusercontent.com/LambdaSchool/DS-Unit-2-Applied-Modeling/master/data/'\n",
        "    !pip install category_encoders==2.*\n",
        "\n",
        "# If you're working locally:\n",
        "else:\n",
        "    DATA_PATH = '../data/'"
      ],
      "execution_count": 2,
      "outputs": []
    },
    {
      "cell_type": "code",
      "metadata": {
        "id": "eK1JmTLj8wFC",
        "colab": {
          "base_uri": "https://localhost:8080/"
        },
        "outputId": "90ee15a3-1d7f-4b42-9237-578c6405a80d"
      },
      "source": [
        "# For encoding categorical data\n",
        "from category_encoders import OneHotEncoder"
      ],
      "execution_count": 3,
      "outputs": [
        {
          "output_type": "stream",
          "name": "stderr",
          "text": [
            "/usr/local/lib/python3.7/dist-packages/statsmodels/tools/_testing.py:19: FutureWarning: pandas.util.testing is deprecated. Use the functions in the public API at pandas.testing instead.\n",
            "  import pandas.util.testing as tm\n"
          ]
        }
      ]
    },
    {
      "cell_type": "markdown",
      "metadata": {
        "id": "c9XvBGFMguJ1"
      },
      "source": [
        "# NYC Rent\n",
        "\n",
        "**GOAL:** Improve our model for predicting NYC rent prices.\n",
        "\n",
        "**Objectives**\n",
        "\n",
        "- Do one-hot encoding of categorical features\n",
        "- Do univariate feature selection\n",
        "- Use scikit-learn to fit Ridge Regression models"
      ]
    },
    {
      "cell_type": "markdown",
      "metadata": {
        "id": "0kaV7oNahJLj"
      },
      "source": [
        "# I. Wrangle Data"
      ]
    },
    {
      "cell_type": "markdown",
      "metadata": {
        "id": "iOecYDRyx5m-"
      },
      "source": [
        "Create **wrangle function** for **reproducibility**."
      ]
    },
    {
      "cell_type": "code",
      "metadata": {
        "id": "m9Dm3h3Ux5AI"
      },
      "source": [
        "def wrangle(filepath):\n",
        "  df = pd.read_csv(filepath, parse_dates=['created'], index_col='created').sort_index()\n",
        "  \n",
        "  # Remove outlier observations\n",
        "  df = df[(df['price'] >= np.percentile(df['price'], 0.5)) & \n",
        "          (df['price'] <= np.percentile(df['price'], 99.5)) & \n",
        "          (df['latitude'] >= np.percentile(df['latitude'], 0.05)) & \n",
        "          (df['latitude'] < np.percentile(df['latitude'], 99.95)) &\n",
        "          (df['longitude'] >= np.percentile(df['longitude'], 0.05)) & \n",
        "          (df['longitude'] <= np.percentile(df['longitude'], 99.95))]\n",
        "  # drop high cardinality categorical variables \n",
        "  hcc_cutoff = 3\n",
        "  drop_cols = [col for col in df.select_dtypes('object').columns if df[col].nunique() > hcc_cutoff]\n",
        "  df = df.drop(columns=drop_cols)\n",
        "  return df\n",
        "\n",
        "df = wrangle(DATA_PATH+'apartments/renthop-nyc.csv')"
      ],
      "execution_count": 41,
      "outputs": []
    },
    {
      "cell_type": "code",
      "metadata": {
        "colab": {
          "base_uri": "https://localhost:8080/"
        },
        "id": "anMmsraE5R8O",
        "outputId": "b5ff0fc9-ab8d-4bd6-c78d-6dac39d06034"
      },
      "source": [
        "df.shape"
      ],
      "execution_count": 30,
      "outputs": [
        {
          "output_type": "execute_result",
          "data": {
            "text/plain": [
              "(48817, 30)"
            ]
          },
          "metadata": {},
          "execution_count": 30
        }
      ]
    },
    {
      "cell_type": "code",
      "metadata": {
        "colab": {
          "base_uri": "https://localhost:8080/"
        },
        "id": "UQ1nfL1T5UAm",
        "outputId": "8e9c21db-0d36-48ce-e51b-2950545b12be"
      },
      "source": [
        "df.info()"
      ],
      "execution_count": 31,
      "outputs": [
        {
          "output_type": "stream",
          "name": "stdout",
          "text": [
            "<class 'pandas.core.frame.DataFrame'>\n",
            "DatetimeIndex: 48817 entries, 2016-04-01 22:12:41 to 2016-06-29 21:41:47\n",
            "Data columns (total 30 columns):\n",
            " #   Column                Non-Null Count  Dtype  \n",
            "---  ------                --------------  -----  \n",
            " 0   bathrooms             48817 non-null  float64\n",
            " 1   bedrooms              48817 non-null  int64  \n",
            " 2   latitude              48817 non-null  float64\n",
            " 3   longitude             48817 non-null  float64\n",
            " 4   price                 48817 non-null  int64  \n",
            " 5   interest_level        48817 non-null  object \n",
            " 6   elevator              48817 non-null  int64  \n",
            " 7   cats_allowed          48817 non-null  int64  \n",
            " 8   hardwood_floors       48817 non-null  int64  \n",
            " 9   dogs_allowed          48817 non-null  int64  \n",
            " 10  doorman               48817 non-null  int64  \n",
            " 11  dishwasher            48817 non-null  int64  \n",
            " 12  no_fee                48817 non-null  int64  \n",
            " 13  laundry_in_building   48817 non-null  int64  \n",
            " 14  fitness_center        48817 non-null  int64  \n",
            " 15  pre-war               48817 non-null  int64  \n",
            " 16  laundry_in_unit       48817 non-null  int64  \n",
            " 17  roof_deck             48817 non-null  int64  \n",
            " 18  outdoor_space         48817 non-null  int64  \n",
            " 19  dining_room           48817 non-null  int64  \n",
            " 20  high_speed_internet   48817 non-null  int64  \n",
            " 21  balcony               48817 non-null  int64  \n",
            " 22  swimming_pool         48817 non-null  int64  \n",
            " 23  new_construction      48817 non-null  int64  \n",
            " 24  terrace               48817 non-null  int64  \n",
            " 25  exclusive             48817 non-null  int64  \n",
            " 26  loft                  48817 non-null  int64  \n",
            " 27  garden_patio          48817 non-null  int64  \n",
            " 28  wheelchair_access     48817 non-null  int64  \n",
            " 29  common_outdoor_space  48817 non-null  int64  \n",
            "dtypes: float64(3), int64(26), object(1)\n",
            "memory usage: 11.5+ MB\n"
          ]
        }
      ]
    },
    {
      "cell_type": "code",
      "metadata": {
        "colab": {
          "base_uri": "https://localhost:8080/",
          "height": 446
        },
        "id": "8XAp2h7-5NTW",
        "outputId": "22fde85b-30a7-49cd-d0dc-bd7efaea933d"
      },
      "source": [
        "df.head()"
      ],
      "execution_count": 42,
      "outputs": [
        {
          "output_type": "execute_result",
          "data": {
            "text/html": [
              "<div>\n",
              "<style scoped>\n",
              "    .dataframe tbody tr th:only-of-type {\n",
              "        vertical-align: middle;\n",
              "    }\n",
              "\n",
              "    .dataframe tbody tr th {\n",
              "        vertical-align: top;\n",
              "    }\n",
              "\n",
              "    .dataframe thead th {\n",
              "        text-align: right;\n",
              "    }\n",
              "</style>\n",
              "<table border=\"1\" class=\"dataframe\">\n",
              "  <thead>\n",
              "    <tr style=\"text-align: right;\">\n",
              "      <th></th>\n",
              "      <th>bathrooms</th>\n",
              "      <th>bedrooms</th>\n",
              "      <th>latitude</th>\n",
              "      <th>longitude</th>\n",
              "      <th>price</th>\n",
              "      <th>interest_level</th>\n",
              "      <th>elevator</th>\n",
              "      <th>cats_allowed</th>\n",
              "      <th>hardwood_floors</th>\n",
              "      <th>dogs_allowed</th>\n",
              "      <th>doorman</th>\n",
              "      <th>dishwasher</th>\n",
              "      <th>no_fee</th>\n",
              "      <th>laundry_in_building</th>\n",
              "      <th>fitness_center</th>\n",
              "      <th>pre-war</th>\n",
              "      <th>laundry_in_unit</th>\n",
              "      <th>roof_deck</th>\n",
              "      <th>outdoor_space</th>\n",
              "      <th>dining_room</th>\n",
              "      <th>high_speed_internet</th>\n",
              "      <th>balcony</th>\n",
              "      <th>swimming_pool</th>\n",
              "      <th>new_construction</th>\n",
              "      <th>terrace</th>\n",
              "      <th>exclusive</th>\n",
              "      <th>loft</th>\n",
              "      <th>garden_patio</th>\n",
              "      <th>wheelchair_access</th>\n",
              "      <th>common_outdoor_space</th>\n",
              "    </tr>\n",
              "    <tr>\n",
              "      <th>created</th>\n",
              "      <th></th>\n",
              "      <th></th>\n",
              "      <th></th>\n",
              "      <th></th>\n",
              "      <th></th>\n",
              "      <th></th>\n",
              "      <th></th>\n",
              "      <th></th>\n",
              "      <th></th>\n",
              "      <th></th>\n",
              "      <th></th>\n",
              "      <th></th>\n",
              "      <th></th>\n",
              "      <th></th>\n",
              "      <th></th>\n",
              "      <th></th>\n",
              "      <th></th>\n",
              "      <th></th>\n",
              "      <th></th>\n",
              "      <th></th>\n",
              "      <th></th>\n",
              "      <th></th>\n",
              "      <th></th>\n",
              "      <th></th>\n",
              "      <th></th>\n",
              "      <th></th>\n",
              "      <th></th>\n",
              "      <th></th>\n",
              "      <th></th>\n",
              "      <th></th>\n",
              "    </tr>\n",
              "  </thead>\n",
              "  <tbody>\n",
              "    <tr>\n",
              "      <th>2016-04-01 22:12:41</th>\n",
              "      <td>1.0</td>\n",
              "      <td>1</td>\n",
              "      <td>40.7302</td>\n",
              "      <td>-73.9924</td>\n",
              "      <td>3195</td>\n",
              "      <td>high</td>\n",
              "      <td>1</td>\n",
              "      <td>0</td>\n",
              "      <td>0</td>\n",
              "      <td>0</td>\n",
              "      <td>1</td>\n",
              "      <td>0</td>\n",
              "      <td>0</td>\n",
              "      <td>1</td>\n",
              "      <td>0</td>\n",
              "      <td>0</td>\n",
              "      <td>0</td>\n",
              "      <td>0</td>\n",
              "      <td>0</td>\n",
              "      <td>0</td>\n",
              "      <td>0</td>\n",
              "      <td>0</td>\n",
              "      <td>0</td>\n",
              "      <td>0</td>\n",
              "      <td>0</td>\n",
              "      <td>0</td>\n",
              "      <td>0</td>\n",
              "      <td>0</td>\n",
              "      <td>0</td>\n",
              "      <td>0</td>\n",
              "    </tr>\n",
              "    <tr>\n",
              "      <th>2016-04-01 22:56:00</th>\n",
              "      <td>1.0</td>\n",
              "      <td>0</td>\n",
              "      <td>40.7576</td>\n",
              "      <td>-73.9677</td>\n",
              "      <td>2000</td>\n",
              "      <td>medium</td>\n",
              "      <td>0</td>\n",
              "      <td>1</td>\n",
              "      <td>0</td>\n",
              "      <td>1</td>\n",
              "      <td>0</td>\n",
              "      <td>0</td>\n",
              "      <td>1</td>\n",
              "      <td>1</td>\n",
              "      <td>0</td>\n",
              "      <td>0</td>\n",
              "      <td>0</td>\n",
              "      <td>0</td>\n",
              "      <td>0</td>\n",
              "      <td>0</td>\n",
              "      <td>0</td>\n",
              "      <td>0</td>\n",
              "      <td>0</td>\n",
              "      <td>0</td>\n",
              "      <td>0</td>\n",
              "      <td>0</td>\n",
              "      <td>0</td>\n",
              "      <td>0</td>\n",
              "      <td>0</td>\n",
              "      <td>0</td>\n",
              "    </tr>\n",
              "    <tr>\n",
              "      <th>2016-04-01 22:57:15</th>\n",
              "      <td>2.0</td>\n",
              "      <td>3</td>\n",
              "      <td>40.7388</td>\n",
              "      <td>-73.9851</td>\n",
              "      <td>5850</td>\n",
              "      <td>high</td>\n",
              "      <td>1</td>\n",
              "      <td>1</td>\n",
              "      <td>0</td>\n",
              "      <td>1</td>\n",
              "      <td>1</td>\n",
              "      <td>0</td>\n",
              "      <td>1</td>\n",
              "      <td>1</td>\n",
              "      <td>1</td>\n",
              "      <td>0</td>\n",
              "      <td>0</td>\n",
              "      <td>0</td>\n",
              "      <td>1</td>\n",
              "      <td>0</td>\n",
              "      <td>0</td>\n",
              "      <td>0</td>\n",
              "      <td>0</td>\n",
              "      <td>0</td>\n",
              "      <td>0</td>\n",
              "      <td>0</td>\n",
              "      <td>0</td>\n",
              "      <td>0</td>\n",
              "      <td>0</td>\n",
              "      <td>1</td>\n",
              "    </tr>\n",
              "    <tr>\n",
              "      <th>2016-04-01 23:26:07</th>\n",
              "      <td>1.0</td>\n",
              "      <td>1</td>\n",
              "      <td>40.7939</td>\n",
              "      <td>-73.9738</td>\n",
              "      <td>2745</td>\n",
              "      <td>medium</td>\n",
              "      <td>1</td>\n",
              "      <td>1</td>\n",
              "      <td>0</td>\n",
              "      <td>1</td>\n",
              "      <td>1</td>\n",
              "      <td>0</td>\n",
              "      <td>0</td>\n",
              "      <td>1</td>\n",
              "      <td>1</td>\n",
              "      <td>0</td>\n",
              "      <td>0</td>\n",
              "      <td>0</td>\n",
              "      <td>1</td>\n",
              "      <td>0</td>\n",
              "      <td>0</td>\n",
              "      <td>0</td>\n",
              "      <td>0</td>\n",
              "      <td>0</td>\n",
              "      <td>0</td>\n",
              "      <td>0</td>\n",
              "      <td>0</td>\n",
              "      <td>0</td>\n",
              "      <td>0</td>\n",
              "      <td>1</td>\n",
              "    </tr>\n",
              "    <tr>\n",
              "      <th>2016-04-02 00:48:13</th>\n",
              "      <td>1.0</td>\n",
              "      <td>1</td>\n",
              "      <td>40.7784</td>\n",
              "      <td>-73.9491</td>\n",
              "      <td>2400</td>\n",
              "      <td>medium</td>\n",
              "      <td>1</td>\n",
              "      <td>1</td>\n",
              "      <td>0</td>\n",
              "      <td>1</td>\n",
              "      <td>1</td>\n",
              "      <td>0</td>\n",
              "      <td>0</td>\n",
              "      <td>1</td>\n",
              "      <td>0</td>\n",
              "      <td>0</td>\n",
              "      <td>0</td>\n",
              "      <td>0</td>\n",
              "      <td>0</td>\n",
              "      <td>0</td>\n",
              "      <td>0</td>\n",
              "      <td>0</td>\n",
              "      <td>0</td>\n",
              "      <td>0</td>\n",
              "      <td>0</td>\n",
              "      <td>0</td>\n",
              "      <td>0</td>\n",
              "      <td>0</td>\n",
              "      <td>0</td>\n",
              "      <td>0</td>\n",
              "    </tr>\n",
              "  </tbody>\n",
              "</table>\n",
              "</div>"
            ],
            "text/plain": [
              "                     bathrooms  ...  common_outdoor_space\n",
              "created                         ...                      \n",
              "2016-04-01 22:12:41        1.0  ...                     0\n",
              "2016-04-01 22:56:00        1.0  ...                     0\n",
              "2016-04-01 22:57:15        2.0  ...                     1\n",
              "2016-04-01 23:26:07        1.0  ...                     1\n",
              "2016-04-02 00:48:13        1.0  ...                     0\n",
              "\n",
              "[5 rows x 30 columns]"
            ]
          },
          "metadata": {},
          "execution_count": 42
        }
      ]
    },
    {
      "cell_type": "code",
      "metadata": {
        "colab": {
          "base_uri": "https://localhost:8080/"
        },
        "id": "MEeuiRMk6KFa",
        "outputId": "e20b7074-b7c4-4050-9826-53111ca2d403"
      },
      "source": [
        "df.select_dtypes('object').nunique()"
      ],
      "execution_count": 17,
      "outputs": [
        {
          "output_type": "execute_result",
          "data": {
            "text/plain": [
              "description        37853\n",
              "display_address     8674\n",
              "street_address     15135\n",
              "interest_level         3\n",
              "dtype: int64"
            ]
          },
          "metadata": {},
          "execution_count": 17
        }
      ]
    },
    {
      "cell_type": "code",
      "metadata": {
        "colab": {
          "base_uri": "https://localhost:8080/"
        },
        "id": "RLAp6Olc63sU",
        "outputId": "05894005-dc20-4a60-b0fd-593c4c502ee3"
      },
      "source": [
        "# for loop option for high cardinality categorical cols\n",
        "# drop_cols = []\n",
        "# for col in df.select_dtypes('object').columns:\n",
        "#   if df[col].nunique() > 3:\n",
        "#     drop_cols.append(col)\n",
        "\n",
        "# print(drop_cols)"
      ],
      "execution_count": 23,
      "outputs": [
        {
          "output_type": "stream",
          "name": "stdout",
          "text": [
            "['description', 'display_address', 'street_address']\n"
          ]
        }
      ]
    },
    {
      "cell_type": "code",
      "metadata": {
        "colab": {
          "base_uri": "https://localhost:8080/"
        },
        "id": "YQ-_8ebP7pAD",
        "outputId": "4e8d84bb-dd7d-40eb-b145-2272da55d633"
      },
      "source": [
        "# list comprehension for high cardinality categorical cols\n",
        "# hcc_cutoff = 3\n",
        "# drop_cols = [col for col in df.select_dtypes('object').columns if df[col].nunique() > hcc_cutoff]\n",
        "# drop_cols"
      ],
      "execution_count": 40,
      "outputs": [
        {
          "output_type": "execute_result",
          "data": {
            "text/plain": [
              "['description', 'display_address', 'street_address']"
            ]
          },
          "metadata": {},
          "execution_count": 40
        }
      ]
    },
    {
      "cell_type": "markdown",
      "metadata": {
        "id": "Fr-x5LJo0pRc"
      },
      "source": [
        "# II. Split Data\n",
        "\n",
        "Split **target vector** from **feature matrix**."
      ]
    },
    {
      "cell_type": "code",
      "metadata": {
        "id": "5mX-eF3t5Rd0"
      },
      "source": [
        "target = 'price'\n",
        "X = df.drop(columns=target)\n",
        "y = df[target]  "
      ],
      "execution_count": 44,
      "outputs": []
    },
    {
      "cell_type": "markdown",
      "metadata": {
        "id": "ZMoRDMuT7A7q"
      },
      "source": [
        "Split data into **training** and **test** sets.\n",
        "\n",
        "(Use data from April & May 2016 to train. Use data from June 2016 to test.)"
      ]
    },
    {
      "cell_type": "code",
      "metadata": {
        "id": "r2TXo5xLo662"
      },
      "source": [
        "# Option 1: Choose a cutoff\n",
        "cutoff = '2016-06-01'\n",
        "mask = X.index < cutoff\n",
        "\n",
        "X_train, y_train = X.loc[mask], y.loc[mask]\n",
        "X_test, y_test = X.loc[~mask], y.loc[~mask]"
      ],
      "execution_count": 55,
      "outputs": []
    },
    {
      "cell_type": "code",
      "metadata": {
        "colab": {
          "base_uri": "https://localhost:8080/"
        },
        "id": "GJfCKWWx9-TH",
        "outputId": "f91c05bc-14ee-4433-9ac5-9ed9fb93e294"
      },
      "source": [
        "len(X_train)"
      ],
      "execution_count": 56,
      "outputs": [
        {
          "output_type": "execute_result",
          "data": {
            "text/plain": [
              "31844"
            ]
          },
          "metadata": {},
          "execution_count": 56
        }
      ]
    },
    {
      "cell_type": "code",
      "metadata": {
        "id": "xGueJUdN9c7K"
      },
      "source": [
        "# Option 2: Sort index and use iloc\n",
        "# find the length of the df and cutoff from the index row \n",
        "# need to make sure that the index is sorted \n",
        "cutoff = int(len(X) * 0.8)\n",
        "X_train, y_train = X.iloc[:cutoff], y.iloc[:cutoff]\n",
        "X_test, y_test = X.iloc[cutoff:], y.iloc[cutoff:]"
      ],
      "execution_count": 77,
      "outputs": []
    },
    {
      "cell_type": "code",
      "metadata": {
        "colab": {
          "base_uri": "https://localhost:8080/"
        },
        "id": "Ubd9p_8G-AWE",
        "outputId": "ea435a1f-4dcd-4233-bf93-c76f389d6645"
      },
      "source": [
        "len(X_train)"
      ],
      "execution_count": 59,
      "outputs": [
        {
          "output_type": "execute_result",
          "data": {
            "text/plain": [
              "39053"
            ]
          },
          "metadata": {},
          "execution_count": 59
        }
      ]
    },
    {
      "cell_type": "code",
      "metadata": {
        "colab": {
          "base_uri": "https://localhost:8080/",
          "height": 446
        },
        "id": "azbGEHz59I4I",
        "outputId": "35e36a12-403b-4add-9e66-7aa4eef90daf"
      },
      "source": [
        "X_train.head()"
      ],
      "execution_count": 60,
      "outputs": [
        {
          "output_type": "execute_result",
          "data": {
            "text/html": [
              "<div>\n",
              "<style scoped>\n",
              "    .dataframe tbody tr th:only-of-type {\n",
              "        vertical-align: middle;\n",
              "    }\n",
              "\n",
              "    .dataframe tbody tr th {\n",
              "        vertical-align: top;\n",
              "    }\n",
              "\n",
              "    .dataframe thead th {\n",
              "        text-align: right;\n",
              "    }\n",
              "</style>\n",
              "<table border=\"1\" class=\"dataframe\">\n",
              "  <thead>\n",
              "    <tr style=\"text-align: right;\">\n",
              "      <th></th>\n",
              "      <th>bathrooms</th>\n",
              "      <th>bedrooms</th>\n",
              "      <th>latitude</th>\n",
              "      <th>longitude</th>\n",
              "      <th>interest_level</th>\n",
              "      <th>elevator</th>\n",
              "      <th>cats_allowed</th>\n",
              "      <th>hardwood_floors</th>\n",
              "      <th>dogs_allowed</th>\n",
              "      <th>doorman</th>\n",
              "      <th>dishwasher</th>\n",
              "      <th>no_fee</th>\n",
              "      <th>laundry_in_building</th>\n",
              "      <th>fitness_center</th>\n",
              "      <th>pre-war</th>\n",
              "      <th>laundry_in_unit</th>\n",
              "      <th>roof_deck</th>\n",
              "      <th>outdoor_space</th>\n",
              "      <th>dining_room</th>\n",
              "      <th>high_speed_internet</th>\n",
              "      <th>balcony</th>\n",
              "      <th>swimming_pool</th>\n",
              "      <th>new_construction</th>\n",
              "      <th>terrace</th>\n",
              "      <th>exclusive</th>\n",
              "      <th>loft</th>\n",
              "      <th>garden_patio</th>\n",
              "      <th>wheelchair_access</th>\n",
              "      <th>common_outdoor_space</th>\n",
              "    </tr>\n",
              "    <tr>\n",
              "      <th>created</th>\n",
              "      <th></th>\n",
              "      <th></th>\n",
              "      <th></th>\n",
              "      <th></th>\n",
              "      <th></th>\n",
              "      <th></th>\n",
              "      <th></th>\n",
              "      <th></th>\n",
              "      <th></th>\n",
              "      <th></th>\n",
              "      <th></th>\n",
              "      <th></th>\n",
              "      <th></th>\n",
              "      <th></th>\n",
              "      <th></th>\n",
              "      <th></th>\n",
              "      <th></th>\n",
              "      <th></th>\n",
              "      <th></th>\n",
              "      <th></th>\n",
              "      <th></th>\n",
              "      <th></th>\n",
              "      <th></th>\n",
              "      <th></th>\n",
              "      <th></th>\n",
              "      <th></th>\n",
              "      <th></th>\n",
              "      <th></th>\n",
              "      <th></th>\n",
              "    </tr>\n",
              "  </thead>\n",
              "  <tbody>\n",
              "    <tr>\n",
              "      <th>2016-04-01 22:12:41</th>\n",
              "      <td>1.0</td>\n",
              "      <td>1</td>\n",
              "      <td>40.7302</td>\n",
              "      <td>-73.9924</td>\n",
              "      <td>high</td>\n",
              "      <td>1</td>\n",
              "      <td>0</td>\n",
              "      <td>0</td>\n",
              "      <td>0</td>\n",
              "      <td>1</td>\n",
              "      <td>0</td>\n",
              "      <td>0</td>\n",
              "      <td>1</td>\n",
              "      <td>0</td>\n",
              "      <td>0</td>\n",
              "      <td>0</td>\n",
              "      <td>0</td>\n",
              "      <td>0</td>\n",
              "      <td>0</td>\n",
              "      <td>0</td>\n",
              "      <td>0</td>\n",
              "      <td>0</td>\n",
              "      <td>0</td>\n",
              "      <td>0</td>\n",
              "      <td>0</td>\n",
              "      <td>0</td>\n",
              "      <td>0</td>\n",
              "      <td>0</td>\n",
              "      <td>0</td>\n",
              "    </tr>\n",
              "    <tr>\n",
              "      <th>2016-04-01 22:56:00</th>\n",
              "      <td>1.0</td>\n",
              "      <td>0</td>\n",
              "      <td>40.7576</td>\n",
              "      <td>-73.9677</td>\n",
              "      <td>medium</td>\n",
              "      <td>0</td>\n",
              "      <td>1</td>\n",
              "      <td>0</td>\n",
              "      <td>1</td>\n",
              "      <td>0</td>\n",
              "      <td>0</td>\n",
              "      <td>1</td>\n",
              "      <td>1</td>\n",
              "      <td>0</td>\n",
              "      <td>0</td>\n",
              "      <td>0</td>\n",
              "      <td>0</td>\n",
              "      <td>0</td>\n",
              "      <td>0</td>\n",
              "      <td>0</td>\n",
              "      <td>0</td>\n",
              "      <td>0</td>\n",
              "      <td>0</td>\n",
              "      <td>0</td>\n",
              "      <td>0</td>\n",
              "      <td>0</td>\n",
              "      <td>0</td>\n",
              "      <td>0</td>\n",
              "      <td>0</td>\n",
              "    </tr>\n",
              "    <tr>\n",
              "      <th>2016-04-01 22:57:15</th>\n",
              "      <td>2.0</td>\n",
              "      <td>3</td>\n",
              "      <td>40.7388</td>\n",
              "      <td>-73.9851</td>\n",
              "      <td>high</td>\n",
              "      <td>1</td>\n",
              "      <td>1</td>\n",
              "      <td>0</td>\n",
              "      <td>1</td>\n",
              "      <td>1</td>\n",
              "      <td>0</td>\n",
              "      <td>1</td>\n",
              "      <td>1</td>\n",
              "      <td>1</td>\n",
              "      <td>0</td>\n",
              "      <td>0</td>\n",
              "      <td>0</td>\n",
              "      <td>1</td>\n",
              "      <td>0</td>\n",
              "      <td>0</td>\n",
              "      <td>0</td>\n",
              "      <td>0</td>\n",
              "      <td>0</td>\n",
              "      <td>0</td>\n",
              "      <td>0</td>\n",
              "      <td>0</td>\n",
              "      <td>0</td>\n",
              "      <td>0</td>\n",
              "      <td>1</td>\n",
              "    </tr>\n",
              "    <tr>\n",
              "      <th>2016-04-01 23:26:07</th>\n",
              "      <td>1.0</td>\n",
              "      <td>1</td>\n",
              "      <td>40.7939</td>\n",
              "      <td>-73.9738</td>\n",
              "      <td>medium</td>\n",
              "      <td>1</td>\n",
              "      <td>1</td>\n",
              "      <td>0</td>\n",
              "      <td>1</td>\n",
              "      <td>1</td>\n",
              "      <td>0</td>\n",
              "      <td>0</td>\n",
              "      <td>1</td>\n",
              "      <td>1</td>\n",
              "      <td>0</td>\n",
              "      <td>0</td>\n",
              "      <td>0</td>\n",
              "      <td>1</td>\n",
              "      <td>0</td>\n",
              "      <td>0</td>\n",
              "      <td>0</td>\n",
              "      <td>0</td>\n",
              "      <td>0</td>\n",
              "      <td>0</td>\n",
              "      <td>0</td>\n",
              "      <td>0</td>\n",
              "      <td>0</td>\n",
              "      <td>0</td>\n",
              "      <td>1</td>\n",
              "    </tr>\n",
              "    <tr>\n",
              "      <th>2016-04-02 00:48:13</th>\n",
              "      <td>1.0</td>\n",
              "      <td>1</td>\n",
              "      <td>40.7784</td>\n",
              "      <td>-73.9491</td>\n",
              "      <td>medium</td>\n",
              "      <td>1</td>\n",
              "      <td>1</td>\n",
              "      <td>0</td>\n",
              "      <td>1</td>\n",
              "      <td>1</td>\n",
              "      <td>0</td>\n",
              "      <td>0</td>\n",
              "      <td>1</td>\n",
              "      <td>0</td>\n",
              "      <td>0</td>\n",
              "      <td>0</td>\n",
              "      <td>0</td>\n",
              "      <td>0</td>\n",
              "      <td>0</td>\n",
              "      <td>0</td>\n",
              "      <td>0</td>\n",
              "      <td>0</td>\n",
              "      <td>0</td>\n",
              "      <td>0</td>\n",
              "      <td>0</td>\n",
              "      <td>0</td>\n",
              "      <td>0</td>\n",
              "      <td>0</td>\n",
              "      <td>0</td>\n",
              "    </tr>\n",
              "  </tbody>\n",
              "</table>\n",
              "</div>"
            ],
            "text/plain": [
              "                     bathrooms  ...  common_outdoor_space\n",
              "created                         ...                      \n",
              "2016-04-01 22:12:41        1.0  ...                     0\n",
              "2016-04-01 22:56:00        1.0  ...                     0\n",
              "2016-04-01 22:57:15        2.0  ...                     1\n",
              "2016-04-01 23:26:07        1.0  ...                     1\n",
              "2016-04-02 00:48:13        1.0  ...                     0\n",
              "\n",
              "[5 rows x 29 columns]"
            ]
          },
          "metadata": {},
          "execution_count": 60
        }
      ]
    },
    {
      "cell_type": "markdown",
      "metadata": {
        "id": "-x9lFKmupRWk"
      },
      "source": [
        "# III. Establish Baseline"
      ]
    },
    {
      "cell_type": "markdown",
      "metadata": {
        "id": "d1BOKNBc7Jnf"
      },
      "source": [
        "**Note:** This is a **regression** problem because we're predictiong the continuous value `'price'`."
      ]
    },
    {
      "cell_type": "code",
      "metadata": {
        "id": "-XNZHgf-7XQc",
        "colab": {
          "base_uri": "https://localhost:8080/"
        },
        "outputId": "c24ea05f-6bec-4ab0-f30d-c00ae6a43e8a"
      },
      "source": [
        "y_pred = [y_train.mean()] * len(y_train)\n",
        "print('Mean price:', y_train.mean())\n",
        "print('Baseline MAE:', mean_absolute_error(y_train, y_pred))"
      ],
      "execution_count": 61,
      "outputs": [
        {
          "output_type": "stream",
          "name": "stdout",
          "text": [
            "Mean price: 3575.604007034292\n",
            "Baseline MAE: 1201.8811133682555\n"
          ]
        }
      ]
    },
    {
      "cell_type": "markdown",
      "metadata": {
        "id": "Xea7aFidqPoV"
      },
      "source": [
        "# IV. Build Models"
      ]
    },
    {
      "cell_type": "markdown",
      "metadata": {
        "id": "TFc7aAwylBwv"
      },
      "source": [
        "**Question:** How can we represent *categorical* features numerically so that we can use them to train our model?"
      ]
    },
    {
      "cell_type": "code",
      "metadata": {
        "id": "IKwppXfWIH_K",
        "colab": {
          "base_uri": "https://localhost:8080/"
        },
        "outputId": "d945883a-ba42-4d08-8a69-84b6bc3798a5"
      },
      "source": [
        "# Step 1: Import transformer class\n",
        "# Did above\n",
        "\n",
        "# Step 2: Instantiate transformer\n",
        "ohe = OneHotEncoder(use_cat_names=True)\n",
        "\n",
        "# Step 3: Fit transformer to TRAINING data\n",
        "ohe.fit(X_train)\n",
        "\n",
        "# Step 4: Transform training and test data\n",
        "XT_train = ohe.transform(X_train)\n",
        "XT_test = ohe.transform(X_test)"
      ],
      "execution_count": 71,
      "outputs": [
        {
          "output_type": "stream",
          "name": "stderr",
          "text": [
            "/usr/local/lib/python3.7/dist-packages/category_encoders/utils.py:21: FutureWarning: is_categorical is deprecated and will be removed in a future version.  Use is_categorical_dtype instead\n",
            "  elif pd.api.types.is_categorical(cols):\n"
          ]
        }
      ]
    },
    {
      "cell_type": "code",
      "metadata": {
        "colab": {
          "base_uri": "https://localhost:8080/"
        },
        "id": "pKKGGWWI_092",
        "outputId": "344a2efe-53c4-4b4c-e32b-6fce3db84305"
      },
      "source": [
        "X_train.shape"
      ],
      "execution_count": 72,
      "outputs": [
        {
          "output_type": "execute_result",
          "data": {
            "text/plain": [
              "(39053, 29)"
            ]
          },
          "metadata": {},
          "execution_count": 72
        }
      ]
    },
    {
      "cell_type": "code",
      "metadata": {
        "colab": {
          "base_uri": "https://localhost:8080/"
        },
        "id": "eBQKgOUM_04Q",
        "outputId": "ee88aff2-9de9-4237-d819-db494c05e2dc"
      },
      "source": [
        "XT_train.shape"
      ],
      "execution_count": 73,
      "outputs": [
        {
          "output_type": "execute_result",
          "data": {
            "text/plain": [
              "(39053, 31)"
            ]
          },
          "metadata": {},
          "execution_count": 73
        }
      ]
    },
    {
      "cell_type": "code",
      "metadata": {
        "colab": {
          "base_uri": "https://localhost:8080/",
          "height": 446
        },
        "id": "62tmyKiZ_4nI",
        "outputId": "5dee073f-dc55-4671-a9a0-95d256d66f80"
      },
      "source": [
        "XT_train.head()"
      ],
      "execution_count": 67,
      "outputs": [
        {
          "output_type": "execute_result",
          "data": {
            "text/html": [
              "<div>\n",
              "<style scoped>\n",
              "    .dataframe tbody tr th:only-of-type {\n",
              "        vertical-align: middle;\n",
              "    }\n",
              "\n",
              "    .dataframe tbody tr th {\n",
              "        vertical-align: top;\n",
              "    }\n",
              "\n",
              "    .dataframe thead th {\n",
              "        text-align: right;\n",
              "    }\n",
              "</style>\n",
              "<table border=\"1\" class=\"dataframe\">\n",
              "  <thead>\n",
              "    <tr style=\"text-align: right;\">\n",
              "      <th></th>\n",
              "      <th>bathrooms</th>\n",
              "      <th>bedrooms</th>\n",
              "      <th>latitude</th>\n",
              "      <th>longitude</th>\n",
              "      <th>interest_level_high</th>\n",
              "      <th>interest_level_medium</th>\n",
              "      <th>interest_level_low</th>\n",
              "      <th>elevator</th>\n",
              "      <th>cats_allowed</th>\n",
              "      <th>hardwood_floors</th>\n",
              "      <th>dogs_allowed</th>\n",
              "      <th>doorman</th>\n",
              "      <th>dishwasher</th>\n",
              "      <th>no_fee</th>\n",
              "      <th>laundry_in_building</th>\n",
              "      <th>fitness_center</th>\n",
              "      <th>pre-war</th>\n",
              "      <th>laundry_in_unit</th>\n",
              "      <th>roof_deck</th>\n",
              "      <th>outdoor_space</th>\n",
              "      <th>dining_room</th>\n",
              "      <th>high_speed_internet</th>\n",
              "      <th>balcony</th>\n",
              "      <th>swimming_pool</th>\n",
              "      <th>new_construction</th>\n",
              "      <th>terrace</th>\n",
              "      <th>exclusive</th>\n",
              "      <th>loft</th>\n",
              "      <th>garden_patio</th>\n",
              "      <th>wheelchair_access</th>\n",
              "      <th>common_outdoor_space</th>\n",
              "    </tr>\n",
              "    <tr>\n",
              "      <th>created</th>\n",
              "      <th></th>\n",
              "      <th></th>\n",
              "      <th></th>\n",
              "      <th></th>\n",
              "      <th></th>\n",
              "      <th></th>\n",
              "      <th></th>\n",
              "      <th></th>\n",
              "      <th></th>\n",
              "      <th></th>\n",
              "      <th></th>\n",
              "      <th></th>\n",
              "      <th></th>\n",
              "      <th></th>\n",
              "      <th></th>\n",
              "      <th></th>\n",
              "      <th></th>\n",
              "      <th></th>\n",
              "      <th></th>\n",
              "      <th></th>\n",
              "      <th></th>\n",
              "      <th></th>\n",
              "      <th></th>\n",
              "      <th></th>\n",
              "      <th></th>\n",
              "      <th></th>\n",
              "      <th></th>\n",
              "      <th></th>\n",
              "      <th></th>\n",
              "      <th></th>\n",
              "      <th></th>\n",
              "    </tr>\n",
              "  </thead>\n",
              "  <tbody>\n",
              "    <tr>\n",
              "      <th>2016-04-01 22:12:41</th>\n",
              "      <td>1.0</td>\n",
              "      <td>1</td>\n",
              "      <td>40.7302</td>\n",
              "      <td>-73.9924</td>\n",
              "      <td>1</td>\n",
              "      <td>0</td>\n",
              "      <td>0</td>\n",
              "      <td>1</td>\n",
              "      <td>0</td>\n",
              "      <td>0</td>\n",
              "      <td>0</td>\n",
              "      <td>1</td>\n",
              "      <td>0</td>\n",
              "      <td>0</td>\n",
              "      <td>1</td>\n",
              "      <td>0</td>\n",
              "      <td>0</td>\n",
              "      <td>0</td>\n",
              "      <td>0</td>\n",
              "      <td>0</td>\n",
              "      <td>0</td>\n",
              "      <td>0</td>\n",
              "      <td>0</td>\n",
              "      <td>0</td>\n",
              "      <td>0</td>\n",
              "      <td>0</td>\n",
              "      <td>0</td>\n",
              "      <td>0</td>\n",
              "      <td>0</td>\n",
              "      <td>0</td>\n",
              "      <td>0</td>\n",
              "    </tr>\n",
              "    <tr>\n",
              "      <th>2016-04-01 22:56:00</th>\n",
              "      <td>1.0</td>\n",
              "      <td>0</td>\n",
              "      <td>40.7576</td>\n",
              "      <td>-73.9677</td>\n",
              "      <td>0</td>\n",
              "      <td>1</td>\n",
              "      <td>0</td>\n",
              "      <td>0</td>\n",
              "      <td>1</td>\n",
              "      <td>0</td>\n",
              "      <td>1</td>\n",
              "      <td>0</td>\n",
              "      <td>0</td>\n",
              "      <td>1</td>\n",
              "      <td>1</td>\n",
              "      <td>0</td>\n",
              "      <td>0</td>\n",
              "      <td>0</td>\n",
              "      <td>0</td>\n",
              "      <td>0</td>\n",
              "      <td>0</td>\n",
              "      <td>0</td>\n",
              "      <td>0</td>\n",
              "      <td>0</td>\n",
              "      <td>0</td>\n",
              "      <td>0</td>\n",
              "      <td>0</td>\n",
              "      <td>0</td>\n",
              "      <td>0</td>\n",
              "      <td>0</td>\n",
              "      <td>0</td>\n",
              "    </tr>\n",
              "    <tr>\n",
              "      <th>2016-04-01 22:57:15</th>\n",
              "      <td>2.0</td>\n",
              "      <td>3</td>\n",
              "      <td>40.7388</td>\n",
              "      <td>-73.9851</td>\n",
              "      <td>1</td>\n",
              "      <td>0</td>\n",
              "      <td>0</td>\n",
              "      <td>1</td>\n",
              "      <td>1</td>\n",
              "      <td>0</td>\n",
              "      <td>1</td>\n",
              "      <td>1</td>\n",
              "      <td>0</td>\n",
              "      <td>1</td>\n",
              "      <td>1</td>\n",
              "      <td>1</td>\n",
              "      <td>0</td>\n",
              "      <td>0</td>\n",
              "      <td>0</td>\n",
              "      <td>1</td>\n",
              "      <td>0</td>\n",
              "      <td>0</td>\n",
              "      <td>0</td>\n",
              "      <td>0</td>\n",
              "      <td>0</td>\n",
              "      <td>0</td>\n",
              "      <td>0</td>\n",
              "      <td>0</td>\n",
              "      <td>0</td>\n",
              "      <td>0</td>\n",
              "      <td>1</td>\n",
              "    </tr>\n",
              "    <tr>\n",
              "      <th>2016-04-01 23:26:07</th>\n",
              "      <td>1.0</td>\n",
              "      <td>1</td>\n",
              "      <td>40.7939</td>\n",
              "      <td>-73.9738</td>\n",
              "      <td>0</td>\n",
              "      <td>1</td>\n",
              "      <td>0</td>\n",
              "      <td>1</td>\n",
              "      <td>1</td>\n",
              "      <td>0</td>\n",
              "      <td>1</td>\n",
              "      <td>1</td>\n",
              "      <td>0</td>\n",
              "      <td>0</td>\n",
              "      <td>1</td>\n",
              "      <td>1</td>\n",
              "      <td>0</td>\n",
              "      <td>0</td>\n",
              "      <td>0</td>\n",
              "      <td>1</td>\n",
              "      <td>0</td>\n",
              "      <td>0</td>\n",
              "      <td>0</td>\n",
              "      <td>0</td>\n",
              "      <td>0</td>\n",
              "      <td>0</td>\n",
              "      <td>0</td>\n",
              "      <td>0</td>\n",
              "      <td>0</td>\n",
              "      <td>0</td>\n",
              "      <td>1</td>\n",
              "    </tr>\n",
              "    <tr>\n",
              "      <th>2016-04-02 00:48:13</th>\n",
              "      <td>1.0</td>\n",
              "      <td>1</td>\n",
              "      <td>40.7784</td>\n",
              "      <td>-73.9491</td>\n",
              "      <td>0</td>\n",
              "      <td>1</td>\n",
              "      <td>0</td>\n",
              "      <td>1</td>\n",
              "      <td>1</td>\n",
              "      <td>0</td>\n",
              "      <td>1</td>\n",
              "      <td>1</td>\n",
              "      <td>0</td>\n",
              "      <td>0</td>\n",
              "      <td>1</td>\n",
              "      <td>0</td>\n",
              "      <td>0</td>\n",
              "      <td>0</td>\n",
              "      <td>0</td>\n",
              "      <td>0</td>\n",
              "      <td>0</td>\n",
              "      <td>0</td>\n",
              "      <td>0</td>\n",
              "      <td>0</td>\n",
              "      <td>0</td>\n",
              "      <td>0</td>\n",
              "      <td>0</td>\n",
              "      <td>0</td>\n",
              "      <td>0</td>\n",
              "      <td>0</td>\n",
              "      <td>0</td>\n",
              "    </tr>\n",
              "  </tbody>\n",
              "</table>\n",
              "</div>"
            ],
            "text/plain": [
              "                     bathrooms  ...  common_outdoor_space\n",
              "created                         ...                      \n",
              "2016-04-01 22:12:41        1.0  ...                     0\n",
              "2016-04-01 22:56:00        1.0  ...                     0\n",
              "2016-04-01 22:57:15        2.0  ...                     1\n",
              "2016-04-01 23:26:07        1.0  ...                     1\n",
              "2016-04-02 00:48:13        1.0  ...                     0\n",
              "\n",
              "[5 rows x 31 columns]"
            ]
          },
          "metadata": {},
          "execution_count": 67
        }
      ]
    },
    {
      "cell_type": "markdown",
      "metadata": {
        "id": "35SyuZhQQqNu"
      },
      "source": [
        "**Model 1:** Regular ol' linear regression"
      ]
    },
    {
      "cell_type": "code",
      "metadata": {
        "id": "OOsVETc19TXY",
        "colab": {
          "base_uri": "https://localhost:8080/"
        },
        "outputId": "68b90847-cb9a-42a0-c798-b4901ef28056"
      },
      "source": [
        "# error due to interest level column which is a string of low, medium or high \n",
        "# model_lr = LinearRegression()\n",
        "# model_lr.fit(X_train, y_train)\n",
        "\n",
        "# after encoding\n",
        "model_lr = LinearRegression()\n",
        "model_lr.fit(XT_train, y_train)"
      ],
      "execution_count": 78,
      "outputs": [
        {
          "output_type": "execute_result",
          "data": {
            "text/plain": [
              "LinearRegression(copy_X=True, fit_intercept=True, n_jobs=None, normalize=False)"
            ]
          },
          "metadata": {},
          "execution_count": 78
        }
      ]
    },
    {
      "cell_type": "code",
      "metadata": {
        "colab": {
          "base_uri": "https://localhost:8080/"
        },
        "id": "oFHgaxfIAfrp",
        "outputId": "a9f43300-5f5a-4bc3-b86a-7f7292c45b51"
      },
      "source": [
        "print(XT_train.shape, y_train.shape)"
      ],
      "execution_count": 75,
      "outputs": [
        {
          "output_type": "stream",
          "name": "stdout",
          "text": [
            "(39053, 31) (31844,)\n"
          ]
        }
      ]
    },
    {
      "cell_type": "markdown",
      "metadata": {
        "id": "gMjtQqeVQufl"
      },
      "source": [
        "**Model 2:** Ridge regression (regularization)"
      ]
    },
    {
      "cell_type": "code",
      "metadata": {
        "id": "ZRs-fAaeQt1e",
        "colab": {
          "base_uri": "https://localhost:8080/"
        },
        "outputId": "8484b00c-5f16-47b4-aebc-bfe8589604da"
      },
      "source": [
        "# higher the alpha the smaller the coefficients will be\n",
        "model_r = Ridge(alpha=1.0)\n",
        "model_r.fit(XT_train, y_train)"
      ],
      "execution_count": 90,
      "outputs": [
        {
          "output_type": "execute_result",
          "data": {
            "text/plain": [
              "Ridge(alpha=1.0, copy_X=True, fit_intercept=True, max_iter=None,\n",
              "      normalize=False, random_state=None, solver='auto', tol=0.001)"
            ]
          },
          "metadata": {},
          "execution_count": 90
        }
      ]
    },
    {
      "cell_type": "markdown",
      "metadata": {
        "id": "J2N4D4VFSiks"
      },
      "source": [
        "**Model 3:** `SelectKBest`"
      ]
    },
    {
      "cell_type": "code",
      "metadata": {
        "id": "OiJ7pnJRSh-N",
        "colab": {
          "base_uri": "https://localhost:8080/"
        },
        "outputId": "6f4396ff-c959-41bc-cd8d-dcbf4bfaa2c4"
      },
      "source": [
        "#step 2\n",
        "# k is number of features to keep\n",
        "# score_func which features has the highest correlation to the taret\n",
        "\n",
        "skb = SelectKBest(k=10, score_func=f_regression)\n",
        "\n",
        "#step 3\n",
        "skb.fit(XT_train, y_train)\n",
        "\n",
        "#step 4\n",
        "XTT_train = skb.transform(XT_train)\n",
        "XTT_test = skb.transform(XT_test)\n",
        "\n",
        "# feed transformed data into predictor\n",
        "model_skb_lr = LinearRegression()\n",
        "model_skb_lr.fit(XTT_train, y_train)"
      ],
      "execution_count": 113,
      "outputs": [
        {
          "output_type": "execute_result",
          "data": {
            "text/plain": [
              "LinearRegression(copy_X=True, fit_intercept=True, n_jobs=None, normalize=False)"
            ]
          },
          "metadata": {},
          "execution_count": 113
        }
      ]
    },
    {
      "cell_type": "code",
      "metadata": {
        "colab": {
          "base_uri": "https://localhost:8080/"
        },
        "id": "JBgl1KlyHb1Y",
        "outputId": "5a8645c3-3845-4509-efd4-335c8244e52b"
      },
      "source": [
        "XTT_train.shape"
      ],
      "execution_count": 103,
      "outputs": [
        {
          "output_type": "execute_result",
          "data": {
            "text/plain": [
              "(39053, 10)"
            ]
          },
          "metadata": {},
          "execution_count": 103
        }
      ]
    },
    {
      "cell_type": "markdown",
      "metadata": {
        "id": "qtS2x4r3JA6y"
      },
      "source": [
        "**Interlude**\n",
        "\n",
        "How do you know what the best **hyperparameter** values are?"
      ]
    },
    {
      "cell_type": "code",
      "metadata": {
        "colab": {
          "base_uri": "https://localhost:8080/"
        },
        "id": "pDrLF5vZJG0d",
        "outputId": "a271ab96-bd01-45da-ef47-9b026291c40f"
      },
      "source": [
        "k_list = range(1, 30)\n",
        "test_maes = []\n",
        "for k in k_list:\n",
        "  skb = SelectKBest(k=k, score_func=f_regression)\n",
        "\n",
        "  #step 3\n",
        "  skb.fit(XT_train, y_train)\n",
        "\n",
        "  #step 4\n",
        "  XTT_train = skb.transform(XT_train)\n",
        "  XTT_test = skb.transform(XT_test)\n",
        "\n",
        "  # feed transformed data into predictor\n",
        "  model_skb_lr = LinearRegression()\n",
        "\n",
        "  # train model\n",
        "  model_skb_lr.fit(XTT_train, y_train)\n",
        "\n",
        "  # record metrics\n",
        "  test_maes.append(mean_absolute_error(y_test, model_skb_lr.predict(XTT_test)))\n",
        "\n",
        "test_maes"
      ],
      "execution_count": 117,
      "outputs": [
        {
          "output_type": "execute_result",
          "data": {
            "text/plain": [
              "[891.9136517755569,\n",
              " 828.4274727927587,\n",
              " 779.2960695123274,\n",
              " 775.5166221634865,\n",
              " 713.1234491418245,\n",
              " 713.7359083149718,\n",
              " 713.8823347337578,\n",
              " 714.5971970660893,\n",
              " 714.2957666510896,\n",
              " 684.7771582779793,\n",
              " 684.5746075654836,\n",
              " 684.7707952723804,\n",
              " 684.7489869550164,\n",
              " 683.2090309611086,\n",
              " 683.2432778430399,\n",
              " 684.5589666758547,\n",
              " 681.8287064753566,\n",
              " 681.8287064753462,\n",
              " 678.9247417252734,\n",
              " 678.7495935675524,\n",
              " 676.3108464555982,\n",
              " 675.9723860581216,\n",
              " 675.5727307710166,\n",
              " 675.46905389079,\n",
              " 675.4343922631114,\n",
              " 676.6248975829578,\n",
              " 676.5960415813191,\n",
              " 675.5948637853339,\n",
              " 675.9528113478083]"
            ]
          },
          "metadata": {},
          "execution_count": 117
        }
      ]
    },
    {
      "cell_type": "code",
      "metadata": {
        "colab": {
          "base_uri": "https://localhost:8080/",
          "height": 281
        },
        "id": "tSIhx57oJJwQ",
        "outputId": "df5b8f5c-1c8c-43b5-a592-5aea40548f3e"
      },
      "source": [
        "# validation curve\n",
        "plt.plot(k_list, test_maes)\n",
        "plt.xlabel('k')\n",
        "plt.ylabel('mean absolute error');"
      ],
      "execution_count": 119,
      "outputs": [
        {
          "output_type": "display_data",
          "data": {
            "image/png": "[encoded data removed]",
            "text/plain": [
              "<Figure size 432x288 with 1 Axes>"
            ]
          },
          "metadata": {
            "needs_background": "light"
          }
        }
      ]
    },
    {
      "cell_type": "markdown",
      "metadata": {
        "id": "rHhIH6VE0iRH"
      },
      "source": [
        "# V. Check Metrics"
      ]
    },
    {
      "cell_type": "code",
      "metadata": {
        "id": "hDj8LEUVOdGs",
        "colab": {
          "base_uri": "https://localhost:8080/"
        },
        "outputId": "87807fb5-234d-4c45-c389-23ef91c6c57e"
      },
      "source": [
        "print('LR training MAE', mean_absolute_error(y_train, model_lr.predict(XT_train)))\n",
        "print('LR test MAE', mean_absolute_error(y_test, model_lr.predict(XT_test)))"
      ],
      "execution_count": 79,
      "outputs": [
        {
          "output_type": "stream",
          "name": "stdout",
          "text": [
            "LR training MAE 674.647210201521\n",
            "LR test MAE 676.6698842687423\n"
          ]
        }
      ]
    },
    {
      "cell_type": "code",
      "metadata": {
        "id": "BXrqHj_lHPum",
        "colab": {
          "base_uri": "https://localhost:8080/"
        },
        "outputId": "e451c5a3-f851-4155-c7d6-4335b05c0e29"
      },
      "source": [
        "print('Ridge training MAE', mean_absolute_error(y_train, model_r.predict(XT_train)))\n",
        "print('Ridge test MAE', mean_absolute_error(y_test, model_r.predict(XT_test)))"
      ],
      "execution_count": 91,
      "outputs": [
        {
          "output_type": "stream",
          "name": "stdout",
          "text": [
            "Ridge training MAE 674.1794177059528\n",
            "Ridge test MAE 676.0794870552751\n"
          ]
        }
      ]
    },
    {
      "cell_type": "code",
      "metadata": {
        "id": "ZJUhiKt7TrW5",
        "colab": {
          "base_uri": "https://localhost:8080/"
        },
        "outputId": "d62199a6-61a3-4ebc-9e6f-7a517bc12a99"
      },
      "source": [
        "print('LR training MAE', mean_absolute_error(y_train, model_skb_lr.predict(XTT_train)))\n",
        "print('LR test MAE', mean_absolute_error(y_test, model_skb_lr.predict(XTT_test)))"
      ],
      "execution_count": 114,
      "outputs": [
        {
          "output_type": "stream",
          "name": "stdout",
          "text": [
            "LR training MAE 683.0500192037675\n",
            "LR test MAE 684.7771582779793\n"
          ]
        }
      ]
    },
    {
      "cell_type": "markdown",
      "metadata": {
        "id": "uI9K2OXDWThQ"
      },
      "source": [
        "# Communicate results"
      ]
    },
    {
      "cell_type": "code",
      "metadata": {
        "id": "84xIPGtUBbsA",
        "colab": {
          "base_uri": "https://localhost:8080/",
          "height": 504
        },
        "outputId": "e41c596f-7121-483a-da0c-01ea158f9810"
      },
      "source": [
        "coefficients = model_lr.coef_\n",
        "print(coefficients)\n",
        "print('-----------')\n",
        "\n",
        "features = ohe.get_feature_names()\n",
        "print(features)\n",
        "print('-----------')\n",
        "\n",
        "feat_importance = pd.Series(coefficients, index=features).sort_values(key=abs)\n",
        "feat_importance\n",
        "\n",
        "feat_importance.tail(10).plot(kind='barh');\n",
        "plt.title('Linear Regession Coeff');"
      ],
      "execution_count": 93,
      "outputs": [
        {
          "output_type": "stream",
          "name": "stdout",
          "text": [
            "[ 1.71091358e+03  4.95363056e+02  1.20592928e+03 -1.31289658e+04\n",
            " -1.44009452e+15 -1.44009452e+15 -1.44009452e+15  1.52432758e+02\n",
            " -3.34937452e+01 -1.50918808e+02  8.85656115e+01  4.34803305e+02\n",
            "  5.48308064e+01 -1.06818643e+02 -9.20410471e+01  1.12491629e+02\n",
            " -8.99737048e+01  4.60897260e+02 -1.66473106e+02 -8.34567573e+01\n",
            "  2.60092852e+02 -2.99321899e+02 -1.76518769e+01  6.88900389e+01\n",
            " -1.36107731e+02  1.65946035e+02  1.44395288e+02  1.50627764e+02\n",
            " -2.05363615e+01  1.71471677e+02 -1.56703208e+02]\n",
            "-----------\n",
            "['bathrooms', 'bedrooms', 'latitude', 'longitude', 'interest_level_high', 'interest_level_medium', 'interest_level_low', 'elevator', 'cats_allowed', 'hardwood_floors', 'dogs_allowed', 'doorman', 'dishwasher', 'no_fee', 'laundry_in_building', 'fitness_center', 'pre-war', 'laundry_in_unit', 'roof_deck', 'outdoor_space', 'dining_room', 'high_speed_internet', 'balcony', 'swimming_pool', 'new_construction', 'terrace', 'exclusive', 'loft', 'garden_patio', 'wheelchair_access', 'common_outdoor_space']\n",
            "-----------\n"
          ]
        },
        {
          "output_type": "display_data",
          "data": {
            "image/png": "[encoded data removed]",
            "text/plain": [
              "<Figure size 432x288 with 1 Axes>"
            ]
          },
          "metadata": {
            "needs_background": "light"
          }
        }
      ]
    },
    {
      "cell_type": "code",
      "metadata": {
        "id": "RlAyipCNav1H",
        "colab": {
          "base_uri": "https://localhost:8080/",
          "height": 491
        },
        "outputId": "887e8800-829a-4973-a767-4b48f95bc264"
      },
      "source": [
        "coefficients = model_r.coef_\n",
        "print(coefficients)\n",
        "print('-----------')\n",
        "\n",
        "features = ohe.get_feature_names()\n",
        "print(features)\n",
        "print('-----------')\n",
        "\n",
        "feat_importance = pd.Series(coefficients, index=features).sort_values(key=abs)\n",
        "feat_importance\n",
        "\n",
        "feat_importance.tail(10).plot(kind='barh');\n",
        "plt.title('Ridge Regression Coeff');"
      ],
      "execution_count": 97,
      "outputs": [
        {
          "output_type": "stream",
          "name": "stdout",
          "text": [
            "[  1711.07932989    494.36491889   1070.35252621 -12621.28559662\n",
            "   -308.25485765    -99.29376807    407.54862574    152.7817403\n",
            "    -35.224069     -149.96171715     91.21918526    439.62501791\n",
            "     57.22679625   -107.43784493    -90.7021951     114.74138744\n",
            "    -89.05714816    462.83207454   -165.83316842    -84.43847345\n",
            "    257.21589025   -297.66723512    -18.20156412     69.13425412\n",
            "   -135.77542974    167.514347      141.6628534     153.39842565\n",
            "    -20.54169696    167.948852     -153.41746194]\n",
            "-----------\n",
            "['bathrooms', 'bedrooms', 'latitude', 'longitude', 'interest_level_high', 'interest_level_medium', 'interest_level_low', 'elevator', 'cats_allowed', 'hardwood_floors', 'dogs_allowed', 'doorman', 'dishwasher', 'no_fee', 'laundry_in_building', 'fitness_center', 'pre-war', 'laundry_in_unit', 'roof_deck', 'outdoor_space', 'dining_room', 'high_speed_internet', 'balcony', 'swimming_pool', 'new_construction', 'terrace', 'exclusive', 'loft', 'garden_patio', 'wheelchair_access', 'common_outdoor_space']\n",
            "-----------\n"
          ]
        },
        {
          "output_type": "display_data",
          "data": {
            "image/png": "[encoded data removed]",
            "text/plain": [
              "<Figure size 432x288 with 1 Axes>"
            ]
          },
          "metadata": {
            "needs_background": "light"
          }
        }
      ]
    },
    {
      "cell_type": "code",
      "metadata": {
        "id": "kGaaKSUXaeGo",
        "colab": {
          "base_uri": "https://localhost:8080/",
          "height": 265
        },
        "outputId": "b21784e9-788b-4bd4-b281-2c1537334ad9"
      },
      "source": [
        "plt.scatter(df['longitude'], df['latitude']);\n",
        "# as longitude increases you move away from manhatten and thus the price decreases "
      ],
      "execution_count": 96,
      "outputs": [
        {
          "output_type": "display_data",
          "data": {
            "image/png": "[encoded data removed]",
            "text/plain": [
              "<Figure size 432x288 with 1 Axes>"
            ]
          },
          "metadata": {
            "needs_background": "light"
          }
        }
      ]
    }
  ]
}