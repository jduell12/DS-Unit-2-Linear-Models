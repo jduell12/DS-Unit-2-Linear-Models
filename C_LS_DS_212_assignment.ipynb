{
  "nbformat": 4,
  "nbformat_minor": 0,
  "metadata": {
    "colab": {
      "name": "LS_DS_212_assignment.ipynb",
      "provenance": [],
      "collapsed_sections": [],
      "include_colab_link": true
    },
    "kernelspec": {
      "display_name": "Python 3",
      "language": "python",
      "name": "python3"
    },
    "language_info": {
      "codemirror_mode": {
        "name": "ipython",
        "version": 3
      },
      "file_extension": ".py",
      "mimetype": "text/x-python",
      "name": "python",
      "nbconvert_exporter": "python",
      "pygments_lexer": "ipython3",
      "version": "3.8.5"
    }
  },
  "cells": [
    {
      "cell_type": "markdown",
      "metadata": {
        "id": "view-in-github",
        "colab_type": "text"
      },
      "source": [
        "<a href=\"https://colab.research.google.com/github/jduell12/DS-Unit-2-Linear-Models/blob/master/C_LS_DS_212_assignment.ipynb\" target=\"_parent\"><img src=\"https://colab.research.google.com/assets/colab-badge.svg\" alt=\"Open In Colab\"/></a>"
      ]
    },
    {
      "cell_type": "markdown",
      "metadata": {
        "id": "BE7aDxeapKjF"
      },
      "source": [
        "Lambda School Data Science\n",
        "\n",
        "*Unit 2, Sprint 1, Module 2*\n",
        "\n",
        "---"
      ]
    },
    {
      "cell_type": "code",
      "metadata": {
        "id": "HN8KcnLCpKjF"
      },
      "source": [
        "%%capture\n",
        "import sys\n",
        "\n",
        "# If you're on Colab:\n",
        "if 'google.colab' in sys.modules:\n",
        "    DATA_PATH = 'https://raw.githubusercontent.com/LambdaSchool/DS-Unit-2-Applied-Modeling/master/data/'\n",
        "\n",
        "# If you're working locally:\n",
        "else:\n",
        "    DATA_PATH = '../data/'"
      ],
      "execution_count": 2,
      "outputs": []
    },
    {
      "cell_type": "markdown",
      "metadata": {
        "id": "XYj50m56pKjG"
      },
      "source": [
        "# Module Project: Regression II\n",
        "\n",
        "In this project, you'll continue working with the New York City rent dataset you used in the last module project.\n",
        "\n",
        "## Directions\n",
        "\n",
        "The tasks for this project are as follows:\n",
        "\n",
        "- **Task 1:** Import `csv` file using `wrangle` function.\n",
        "- **Task 2:** Conduct exploratory data analysis (EDA), and modify `wrangle` function to engineer two new features.\n",
        "- **Task 3:** Split data into feature matrix `X` and target vector `y`.\n",
        "- **Task 4:** Split feature matrix `X` and target vector `y` into training and test sets.\n",
        "- **Task 5:** Establish the baseline mean absolute error for your dataset.\n",
        "- **Task 6:** Build and train a `Linearregression` model.\n",
        "- **Task 7:** Calculate the training and test mean absolute error for your model.\n",
        "- **Task 8:** Calculate the training and test $R^2$ score for your model.\n",
        "- **Stretch Goal:** Determine the three most important features for your linear regression model.\n",
        "\n",
        "**Note**\n",
        "\n",
        "You should limit yourself to the following libraries for this project:\n",
        "\n",
        "- `matplotlib`\n",
        "- `numpy`\n",
        "- `pandas`\n",
        "- `sklearn`"
      ]
    },
    {
      "cell_type": "markdown",
      "metadata": {
        "id": "6hWzLXGgpKjG"
      },
      "source": [
        "# I. Wrangle Data"
      ]
    },
    {
      "cell_type": "code",
      "metadata": {
        "id": "R7I_j2zMzvkC"
      },
      "source": [
        "import pandas as pd\n",
        "import numpy as np\n",
        "import matplotlib.pyplot as plt\n",
        "from sklearn.metrics import mean_absolute_error, mean_squared_error, r2_score\n",
        "from sklearn.linear_model import LinearRegression\n",
        "\n",
        "# Libraries for R^2 visualization\n",
        "from ipywidgets import interactive, IntSlider, FloatSlider\n",
        "from math import floor, ceil\n",
        "from sklearn.base import BaseEstimator, RegressorMixin\n"
      ],
      "execution_count": 3,
      "outputs": []
    },
    {
      "cell_type": "code",
      "metadata": {
        "id": "Hq2JWLKqpKjH"
      },
      "source": [
        "def checkPetNumber(cell_contents):\n",
        "  if (cell_contents > 0):\n",
        "    cell_contents = cell_contents - 1\n",
        "  return cell_contents\n",
        "\n",
        "def checkTruthValue(cell_contents):\n",
        "  if(cell_contents > 0):\n",
        "    cell_contents = 1\n",
        "  return cell_contents\n",
        "\n",
        "def wrangle(filepath):\n",
        "    df = pd.read_csv(filepath, parse_dates=['created'], index_col='created')\n",
        "    \n",
        "    # Remove the most extreme 1% prices,\n",
        "    # the most extreme .1% latitudes, &\n",
        "    # the most extreme .1% longitudes\n",
        "    df = df[(df['price'] >= np.percentile(df['price'], 0.5)) & \n",
        "            (df['price'] <= np.percentile(df['price'], 99.5)) & \n",
        "            (df['latitude'] >= np.percentile(df['latitude'], 0.05)) & \n",
        "            (df['latitude'] < np.percentile(df['latitude'], 99.95)) &\n",
        "            (df['longitude'] >= np.percentile(df['longitude'], 0.05)) & \n",
        "            (df['longitude'] <= np.percentile(df['longitude'], 99.95))]\n",
        "    df = df.dropna()\n",
        "    #create new column for combination of cats and dogs allowed\n",
        "    df['cat_and_dog_allowed'] = df['cats_allowed'] + df['dogs_allowed']\n",
        "    df['cat_and_dog_allowed'] = df['cat_and_dog_allowed'].apply(checkPetNumber)\n",
        "    #create new column for cat or dog allowed \n",
        "    df['cat_or_dog_allowed'] = df['cats_allowed'] + df['dogs_allowed']\n",
        "    df['cat_or_dog_allowed'] = df['cat_or_dog_allowed'].apply(checkTruthValue)\n",
        "    #drop unneeded columns \n",
        "    df = df.drop(columns=['description', 'display_address', 'street_address', 'interest_level',])\n",
        "  \n",
        "    return df\n",
        "\n",
        "\n",
        "filepath = DATA_PATH + 'apartments/renthop-nyc.csv'"
      ],
      "execution_count": 4,
      "outputs": []
    },
    {
      "cell_type": "markdown",
      "metadata": {
        "id": "3Lc-e6EFpKjH"
      },
      "source": [
        "**Task 1:** Add the following functionality to the above `wrangle` function.\n",
        "\n",
        "- The `'created'` column will parsed as a `DateTime` object and set as the `index` of the DataFrame. \n",
        "- Rows with `NaN` values will be dropped.\n",
        "\n",
        "Then use your modified function to import the `renthop-nyc.csv` file into a DataFrame named `df`."
      ]
    },
    {
      "cell_type": "code",
      "metadata": {
        "id": "TQG45daypKjH",
        "colab": {
          "base_uri": "https://localhost:8080/",
          "height": 446
        },
        "outputId": "122fd47c-58ae-43ac-ac11-3ff4e13c41ec"
      },
      "source": [
        "df = wrangle(filepath)\n",
        "\n",
        "df.head()"
      ],
      "execution_count": 5,
      "outputs": [
        {
          "output_type": "execute_result",
          "data": {
            "text/html": [
              "<div>\n",
              "<style scoped>\n",
              "    .dataframe tbody tr th:only-of-type {\n",
              "        vertical-align: middle;\n",
              "    }\n",
              "\n",
              "    .dataframe tbody tr th {\n",
              "        vertical-align: top;\n",
              "    }\n",
              "\n",
              "    .dataframe thead th {\n",
              "        text-align: right;\n",
              "    }\n",
              "</style>\n",
              "<table border=\"1\" class=\"dataframe\">\n",
              "  <thead>\n",
              "    <tr style=\"text-align: right;\">\n",
              "      <th></th>\n",
              "      <th>bathrooms</th>\n",
              "      <th>bedrooms</th>\n",
              "      <th>latitude</th>\n",
              "      <th>longitude</th>\n",
              "      <th>price</th>\n",
              "      <th>elevator</th>\n",
              "      <th>cats_allowed</th>\n",
              "      <th>hardwood_floors</th>\n",
              "      <th>dogs_allowed</th>\n",
              "      <th>doorman</th>\n",
              "      <th>dishwasher</th>\n",
              "      <th>no_fee</th>\n",
              "      <th>laundry_in_building</th>\n",
              "      <th>fitness_center</th>\n",
              "      <th>pre-war</th>\n",
              "      <th>laundry_in_unit</th>\n",
              "      <th>roof_deck</th>\n",
              "      <th>outdoor_space</th>\n",
              "      <th>dining_room</th>\n",
              "      <th>high_speed_internet</th>\n",
              "      <th>balcony</th>\n",
              "      <th>swimming_pool</th>\n",
              "      <th>new_construction</th>\n",
              "      <th>terrace</th>\n",
              "      <th>exclusive</th>\n",
              "      <th>loft</th>\n",
              "      <th>garden_patio</th>\n",
              "      <th>wheelchair_access</th>\n",
              "      <th>common_outdoor_space</th>\n",
              "      <th>cat_and_dog_allowed</th>\n",
              "      <th>cat_or_dog_allowed</th>\n",
              "    </tr>\n",
              "    <tr>\n",
              "      <th>created</th>\n",
              "      <th></th>\n",
              "      <th></th>\n",
              "      <th></th>\n",
              "      <th></th>\n",
              "      <th></th>\n",
              "      <th></th>\n",
              "      <th></th>\n",
              "      <th></th>\n",
              "      <th></th>\n",
              "      <th></th>\n",
              "      <th></th>\n",
              "      <th></th>\n",
              "      <th></th>\n",
              "      <th></th>\n",
              "      <th></th>\n",
              "      <th></th>\n",
              "      <th></th>\n",
              "      <th></th>\n",
              "      <th></th>\n",
              "      <th></th>\n",
              "      <th></th>\n",
              "      <th></th>\n",
              "      <th></th>\n",
              "      <th></th>\n",
              "      <th></th>\n",
              "      <th></th>\n",
              "      <th></th>\n",
              "      <th></th>\n",
              "      <th></th>\n",
              "      <th></th>\n",
              "      <th></th>\n",
              "    </tr>\n",
              "  </thead>\n",
              "  <tbody>\n",
              "    <tr>\n",
              "      <th>2016-06-24 07:54:24</th>\n",
              "      <td>1.5</td>\n",
              "      <td>3</td>\n",
              "      <td>40.7145</td>\n",
              "      <td>-73.9425</td>\n",
              "      <td>3000</td>\n",
              "      <td>0</td>\n",
              "      <td>0</td>\n",
              "      <td>0</td>\n",
              "      <td>0</td>\n",
              "      <td>0</td>\n",
              "      <td>0</td>\n",
              "      <td>0</td>\n",
              "      <td>0</td>\n",
              "      <td>0</td>\n",
              "      <td>0</td>\n",
              "      <td>0</td>\n",
              "      <td>0</td>\n",
              "      <td>0</td>\n",
              "      <td>0</td>\n",
              "      <td>0</td>\n",
              "      <td>0</td>\n",
              "      <td>0</td>\n",
              "      <td>0</td>\n",
              "      <td>0</td>\n",
              "      <td>0</td>\n",
              "      <td>0</td>\n",
              "      <td>0</td>\n",
              "      <td>0</td>\n",
              "      <td>0</td>\n",
              "      <td>0</td>\n",
              "      <td>0</td>\n",
              "    </tr>\n",
              "    <tr>\n",
              "      <th>2016-06-12 12:19:27</th>\n",
              "      <td>1.0</td>\n",
              "      <td>2</td>\n",
              "      <td>40.7947</td>\n",
              "      <td>-73.9667</td>\n",
              "      <td>5465</td>\n",
              "      <td>1</td>\n",
              "      <td>1</td>\n",
              "      <td>0</td>\n",
              "      <td>1</td>\n",
              "      <td>1</td>\n",
              "      <td>0</td>\n",
              "      <td>0</td>\n",
              "      <td>0</td>\n",
              "      <td>1</td>\n",
              "      <td>0</td>\n",
              "      <td>0</td>\n",
              "      <td>0</td>\n",
              "      <td>0</td>\n",
              "      <td>0</td>\n",
              "      <td>0</td>\n",
              "      <td>0</td>\n",
              "      <td>0</td>\n",
              "      <td>0</td>\n",
              "      <td>0</td>\n",
              "      <td>0</td>\n",
              "      <td>0</td>\n",
              "      <td>0</td>\n",
              "      <td>0</td>\n",
              "      <td>0</td>\n",
              "      <td>1</td>\n",
              "      <td>1</td>\n",
              "    </tr>\n",
              "    <tr>\n",
              "      <th>2016-04-17 03:26:41</th>\n",
              "      <td>1.0</td>\n",
              "      <td>1</td>\n",
              "      <td>40.7388</td>\n",
              "      <td>-74.0018</td>\n",
              "      <td>2850</td>\n",
              "      <td>0</td>\n",
              "      <td>0</td>\n",
              "      <td>1</td>\n",
              "      <td>0</td>\n",
              "      <td>0</td>\n",
              "      <td>1</td>\n",
              "      <td>0</td>\n",
              "      <td>1</td>\n",
              "      <td>0</td>\n",
              "      <td>0</td>\n",
              "      <td>0</td>\n",
              "      <td>0</td>\n",
              "      <td>0</td>\n",
              "      <td>0</td>\n",
              "      <td>0</td>\n",
              "      <td>0</td>\n",
              "      <td>0</td>\n",
              "      <td>0</td>\n",
              "      <td>0</td>\n",
              "      <td>0</td>\n",
              "      <td>0</td>\n",
              "      <td>0</td>\n",
              "      <td>0</td>\n",
              "      <td>0</td>\n",
              "      <td>0</td>\n",
              "      <td>0</td>\n",
              "    </tr>\n",
              "    <tr>\n",
              "      <th>2016-04-18 02:22:02</th>\n",
              "      <td>1.0</td>\n",
              "      <td>1</td>\n",
              "      <td>40.7539</td>\n",
              "      <td>-73.9677</td>\n",
              "      <td>3275</td>\n",
              "      <td>0</td>\n",
              "      <td>0</td>\n",
              "      <td>1</td>\n",
              "      <td>0</td>\n",
              "      <td>0</td>\n",
              "      <td>0</td>\n",
              "      <td>1</td>\n",
              "      <td>0</td>\n",
              "      <td>0</td>\n",
              "      <td>0</td>\n",
              "      <td>0</td>\n",
              "      <td>0</td>\n",
              "      <td>0</td>\n",
              "      <td>0</td>\n",
              "      <td>0</td>\n",
              "      <td>0</td>\n",
              "      <td>0</td>\n",
              "      <td>0</td>\n",
              "      <td>0</td>\n",
              "      <td>0</td>\n",
              "      <td>0</td>\n",
              "      <td>0</td>\n",
              "      <td>0</td>\n",
              "      <td>0</td>\n",
              "      <td>0</td>\n",
              "      <td>0</td>\n",
              "    </tr>\n",
              "    <tr>\n",
              "      <th>2016-04-28 01:32:41</th>\n",
              "      <td>1.0</td>\n",
              "      <td>4</td>\n",
              "      <td>40.8241</td>\n",
              "      <td>-73.9493</td>\n",
              "      <td>3350</td>\n",
              "      <td>0</td>\n",
              "      <td>0</td>\n",
              "      <td>0</td>\n",
              "      <td>0</td>\n",
              "      <td>0</td>\n",
              "      <td>0</td>\n",
              "      <td>0</td>\n",
              "      <td>0</td>\n",
              "      <td>0</td>\n",
              "      <td>1</td>\n",
              "      <td>0</td>\n",
              "      <td>0</td>\n",
              "      <td>0</td>\n",
              "      <td>0</td>\n",
              "      <td>0</td>\n",
              "      <td>0</td>\n",
              "      <td>0</td>\n",
              "      <td>0</td>\n",
              "      <td>0</td>\n",
              "      <td>0</td>\n",
              "      <td>0</td>\n",
              "      <td>0</td>\n",
              "      <td>0</td>\n",
              "      <td>0</td>\n",
              "      <td>0</td>\n",
              "      <td>0</td>\n",
              "    </tr>\n",
              "  </tbody>\n",
              "</table>\n",
              "</div>"
            ],
            "text/plain": [
              "                     bathrooms  ...  cat_or_dog_allowed\n",
              "created                         ...                    \n",
              "2016-06-24 07:54:24        1.5  ...                   0\n",
              "2016-06-12 12:19:27        1.0  ...                   1\n",
              "2016-04-17 03:26:41        1.0  ...                   0\n",
              "2016-04-18 02:22:02        1.0  ...                   0\n",
              "2016-04-28 01:32:41        1.0  ...                   0\n",
              "\n",
              "[5 rows x 31 columns]"
            ]
          },
          "metadata": {},
          "execution_count": 5
        }
      ]
    },
    {
      "cell_type": "code",
      "metadata": {
        "colab": {
          "base_uri": "https://localhost:8080/"
        },
        "id": "ErWJmWR-CkIj",
        "outputId": "2cf60127-1ca4-43e5-873f-a8d17af39d90"
      },
      "source": [
        "df.shape"
      ],
      "execution_count": 6,
      "outputs": [
        {
          "output_type": "execute_result",
          "data": {
            "text/plain": [
              "(47260, 31)"
            ]
          },
          "metadata": {},
          "execution_count": 6
        }
      ]
    },
    {
      "cell_type": "code",
      "metadata": {
        "colab": {
          "base_uri": "https://localhost:8080/"
        },
        "id": "V8W0OakD-eqD",
        "outputId": "2433ebcc-1deb-42c2-d7e2-fa0fdd323292"
      },
      "source": [
        "df['cat_and_dog_allowed'].value_counts()"
      ],
      "execution_count": 7,
      "outputs": [
        {
          "output_type": "execute_result",
          "data": {
            "text/plain": [
              "0    26336\n",
              "1    20924\n",
              "Name: cat_and_dog_allowed, dtype: int64"
            ]
          },
          "metadata": {},
          "execution_count": 7
        }
      ]
    },
    {
      "cell_type": "code",
      "metadata": {
        "colab": {
          "base_uri": "https://localhost:8080/"
        },
        "id": "roJHbU5N94C2",
        "outputId": "d1ffd929-852a-47e3-ebd5-ce70cd23eb76"
      },
      "source": [
        "df['cat_or_dog_allowed'].value_counts()"
      ],
      "execution_count": 8,
      "outputs": [
        {
          "output_type": "execute_result",
          "data": {
            "text/plain": [
              "0    24787\n",
              "1    22473\n",
              "Name: cat_or_dog_allowed, dtype: int64"
            ]
          },
          "metadata": {},
          "execution_count": 8
        }
      ]
    },
    {
      "cell_type": "markdown",
      "metadata": {
        "id": "Pml5aic8pKjH"
      },
      "source": [
        "**Task 2:** Using your `pandas` and dataviz skills decide on two features that you want to engineer for your dataset. Next, modify your `wrangle` function to add those features. \n",
        "\n",
        "**Note:** You can learn more about feature engineering [here](https://en.wikipedia.org/wiki/Feature_engineering). Here are some ideas for new features:\n",
        "\n",
        "- Does the apartment have a description?\n",
        "- Length of description.\n",
        "- Total number of perks that apartment has.\n",
        "- Are cats _or_ dogs allowed?\n",
        "- Are cats _and_ dogs allowed?\n",
        "- Total number of rooms (beds + baths)."
      ]
    },
    {
      "cell_type": "code",
      "metadata": {
        "id": "vhR-BUUipKjI",
        "colab": {
          "base_uri": "https://localhost:8080/"
        },
        "outputId": "f20951c1-db90-4c84-eb67-6752f505a098"
      },
      "source": [
        "# Conduct your exploratory data analysis here, \n",
        "# and then modify the function above.\n",
        "\n",
        "# price is influenced by pets allowed \n",
        "df['cats_allowed']\n",
        "df['dogs_allowed']\n",
        "df['pets_allowed'] = df['cats_allowed'] + df['dogs_allowed']\n",
        "df['pets_allowed'].value_counts()\n",
        "\n",
        "def checkPetNumber(cell_contents):\n",
        "  if (cell_contents > 0):\n",
        "    cell_contents = cell_contents - 1\n",
        "  return cell_contents\n",
        "\n",
        "df['pets_allowed'] = df['pets_allowed'].apply(checkPetNumber)\n",
        "df['pets_allowed'].value_counts()\n"
      ],
      "execution_count": 9,
      "outputs": [
        {
          "output_type": "execute_result",
          "data": {
            "text/plain": [
              "0    26336\n",
              "1    20924\n",
              "Name: pets_allowed, dtype: int64"
            ]
          },
          "metadata": {},
          "execution_count": 9
        }
      ]
    },
    {
      "cell_type": "code",
      "metadata": {
        "colab": {
          "base_uri": "https://localhost:8080/"
        },
        "id": "gJ3MIQPK8n7Z",
        "outputId": "a4f8b002-5ffc-44e6-c987-6eb984522cf3"
      },
      "source": [
        "df['cats_allowed']\n",
        "df['dogs_allowed']\n",
        "df['cat_or_dog_allowed'] = df['cats_allowed'] + df['dogs_allowed']\n",
        "df['cat_or_dog_allowed'].value_counts()\n",
        "\n",
        "def checkTruthValue(cell_contents):\n",
        "  if(cell_contents > 0):\n",
        "    cell_contents = 1\n",
        "  return cell_contents\n",
        "\n",
        "df['cat_or_dog_allowed'] = df['cat_or_dog_allowed'].apply(checkTruthValue)\n",
        "df['cat_or_dog_allowed'].value_counts()"
      ],
      "execution_count": 10,
      "outputs": [
        {
          "output_type": "execute_result",
          "data": {
            "text/plain": [
              "0    24787\n",
              "1    22473\n",
              "Name: cat_or_dog_allowed, dtype: int64"
            ]
          },
          "metadata": {},
          "execution_count": 10
        }
      ]
    },
    {
      "cell_type": "markdown",
      "metadata": {
        "id": "kG7RH2bdpKjI"
      },
      "source": [
        "# II. Split Data\n",
        "\n",
        "**Task 3:** Split your DataFrame `df` into a feature matrix `X` and the target vector `y`. You want to predict `'price'`.\n",
        "\n",
        "**Note:** In contrast to the last module project, this time you should include _all_ the numerical features in your dataset."
      ]
    },
    {
      "cell_type": "code",
      "metadata": {
        "id": "YtCIIYdMpKjI",
        "colab": {
          "base_uri": "https://localhost:8080/",
          "height": 446
        },
        "outputId": "e6e9d2f7-9cc7-4d6c-e5ff-01c69666169a"
      },
      "source": [
        "X = df.drop(columns=['price'])\n",
        "y = df['price']\n",
        "\n",
        "X.shape\n",
        "X.head()"
      ],
      "execution_count": 11,
      "outputs": [
        {
          "output_type": "execute_result",
          "data": {
            "text/html": [
              "<div>\n",
              "<style scoped>\n",
              "    .dataframe tbody tr th:only-of-type {\n",
              "        vertical-align: middle;\n",
              "    }\n",
              "\n",
              "    .dataframe tbody tr th {\n",
              "        vertical-align: top;\n",
              "    }\n",
              "\n",
              "    .dataframe thead th {\n",
              "        text-align: right;\n",
              "    }\n",
              "</style>\n",
              "<table border=\"1\" class=\"dataframe\">\n",
              "  <thead>\n",
              "    <tr style=\"text-align: right;\">\n",
              "      <th></th>\n",
              "      <th>bathrooms</th>\n",
              "      <th>bedrooms</th>\n",
              "      <th>latitude</th>\n",
              "      <th>longitude</th>\n",
              "      <th>elevator</th>\n",
              "      <th>cats_allowed</th>\n",
              "      <th>hardwood_floors</th>\n",
              "      <th>dogs_allowed</th>\n",
              "      <th>doorman</th>\n",
              "      <th>dishwasher</th>\n",
              "      <th>no_fee</th>\n",
              "      <th>laundry_in_building</th>\n",
              "      <th>fitness_center</th>\n",
              "      <th>pre-war</th>\n",
              "      <th>laundry_in_unit</th>\n",
              "      <th>roof_deck</th>\n",
              "      <th>outdoor_space</th>\n",
              "      <th>dining_room</th>\n",
              "      <th>high_speed_internet</th>\n",
              "      <th>balcony</th>\n",
              "      <th>swimming_pool</th>\n",
              "      <th>new_construction</th>\n",
              "      <th>terrace</th>\n",
              "      <th>exclusive</th>\n",
              "      <th>loft</th>\n",
              "      <th>garden_patio</th>\n",
              "      <th>wheelchair_access</th>\n",
              "      <th>common_outdoor_space</th>\n",
              "      <th>cat_and_dog_allowed</th>\n",
              "      <th>cat_or_dog_allowed</th>\n",
              "      <th>pets_allowed</th>\n",
              "    </tr>\n",
              "    <tr>\n",
              "      <th>created</th>\n",
              "      <th></th>\n",
              "      <th></th>\n",
              "      <th></th>\n",
              "      <th></th>\n",
              "      <th></th>\n",
              "      <th></th>\n",
              "      <th></th>\n",
              "      <th></th>\n",
              "      <th></th>\n",
              "      <th></th>\n",
              "      <th></th>\n",
              "      <th></th>\n",
              "      <th></th>\n",
              "      <th></th>\n",
              "      <th></th>\n",
              "      <th></th>\n",
              "      <th></th>\n",
              "      <th></th>\n",
              "      <th></th>\n",
              "      <th></th>\n",
              "      <th></th>\n",
              "      <th></th>\n",
              "      <th></th>\n",
              "      <th></th>\n",
              "      <th></th>\n",
              "      <th></th>\n",
              "      <th></th>\n",
              "      <th></th>\n",
              "      <th></th>\n",
              "      <th></th>\n",
              "      <th></th>\n",
              "    </tr>\n",
              "  </thead>\n",
              "  <tbody>\n",
              "    <tr>\n",
              "      <th>2016-06-24 07:54:24</th>\n",
              "      <td>1.5</td>\n",
              "      <td>3</td>\n",
              "      <td>40.7145</td>\n",
              "      <td>-73.9425</td>\n",
              "      <td>0</td>\n",
              "      <td>0</td>\n",
              "      <td>0</td>\n",
              "      <td>0</td>\n",
              "      <td>0</td>\n",
              "      <td>0</td>\n",
              "      <td>0</td>\n",
              "      <td>0</td>\n",
              "      <td>0</td>\n",
              "      <td>0</td>\n",
              "      <td>0</td>\n",
              "      <td>0</td>\n",
              "      <td>0</td>\n",
              "      <td>0</td>\n",
              "      <td>0</td>\n",
              "      <td>0</td>\n",
              "      <td>0</td>\n",
              "      <td>0</td>\n",
              "      <td>0</td>\n",
              "      <td>0</td>\n",
              "      <td>0</td>\n",
              "      <td>0</td>\n",
              "      <td>0</td>\n",
              "      <td>0</td>\n",
              "      <td>0</td>\n",
              "      <td>0</td>\n",
              "      <td>0</td>\n",
              "    </tr>\n",
              "    <tr>\n",
              "      <th>2016-06-12 12:19:27</th>\n",
              "      <td>1.0</td>\n",
              "      <td>2</td>\n",
              "      <td>40.7947</td>\n",
              "      <td>-73.9667</td>\n",
              "      <td>1</td>\n",
              "      <td>1</td>\n",
              "      <td>0</td>\n",
              "      <td>1</td>\n",
              "      <td>1</td>\n",
              "      <td>0</td>\n",
              "      <td>0</td>\n",
              "      <td>0</td>\n",
              "      <td>1</td>\n",
              "      <td>0</td>\n",
              "      <td>0</td>\n",
              "      <td>0</td>\n",
              "      <td>0</td>\n",
              "      <td>0</td>\n",
              "      <td>0</td>\n",
              "      <td>0</td>\n",
              "      <td>0</td>\n",
              "      <td>0</td>\n",
              "      <td>0</td>\n",
              "      <td>0</td>\n",
              "      <td>0</td>\n",
              "      <td>0</td>\n",
              "      <td>0</td>\n",
              "      <td>0</td>\n",
              "      <td>1</td>\n",
              "      <td>1</td>\n",
              "      <td>1</td>\n",
              "    </tr>\n",
              "    <tr>\n",
              "      <th>2016-04-17 03:26:41</th>\n",
              "      <td>1.0</td>\n",
              "      <td>1</td>\n",
              "      <td>40.7388</td>\n",
              "      <td>-74.0018</td>\n",
              "      <td>0</td>\n",
              "      <td>0</td>\n",
              "      <td>1</td>\n",
              "      <td>0</td>\n",
              "      <td>0</td>\n",
              "      <td>1</td>\n",
              "      <td>0</td>\n",
              "      <td>1</td>\n",
              "      <td>0</td>\n",
              "      <td>0</td>\n",
              "      <td>0</td>\n",
              "      <td>0</td>\n",
              "      <td>0</td>\n",
              "      <td>0</td>\n",
              "      <td>0</td>\n",
              "      <td>0</td>\n",
              "      <td>0</td>\n",
              "      <td>0</td>\n",
              "      <td>0</td>\n",
              "      <td>0</td>\n",
              "      <td>0</td>\n",
              "      <td>0</td>\n",
              "      <td>0</td>\n",
              "      <td>0</td>\n",
              "      <td>0</td>\n",
              "      <td>0</td>\n",
              "      <td>0</td>\n",
              "    </tr>\n",
              "    <tr>\n",
              "      <th>2016-04-18 02:22:02</th>\n",
              "      <td>1.0</td>\n",
              "      <td>1</td>\n",
              "      <td>40.7539</td>\n",
              "      <td>-73.9677</td>\n",
              "      <td>0</td>\n",
              "      <td>0</td>\n",
              "      <td>1</td>\n",
              "      <td>0</td>\n",
              "      <td>0</td>\n",
              "      <td>0</td>\n",
              "      <td>1</td>\n",
              "      <td>0</td>\n",
              "      <td>0</td>\n",
              "      <td>0</td>\n",
              "      <td>0</td>\n",
              "      <td>0</td>\n",
              "      <td>0</td>\n",
              "      <td>0</td>\n",
              "      <td>0</td>\n",
              "      <td>0</td>\n",
              "      <td>0</td>\n",
              "      <td>0</td>\n",
              "      <td>0</td>\n",
              "      <td>0</td>\n",
              "      <td>0</td>\n",
              "      <td>0</td>\n",
              "      <td>0</td>\n",
              "      <td>0</td>\n",
              "      <td>0</td>\n",
              "      <td>0</td>\n",
              "      <td>0</td>\n",
              "    </tr>\n",
              "    <tr>\n",
              "      <th>2016-04-28 01:32:41</th>\n",
              "      <td>1.0</td>\n",
              "      <td>4</td>\n",
              "      <td>40.8241</td>\n",
              "      <td>-73.9493</td>\n",
              "      <td>0</td>\n",
              "      <td>0</td>\n",
              "      <td>0</td>\n",
              "      <td>0</td>\n",
              "      <td>0</td>\n",
              "      <td>0</td>\n",
              "      <td>0</td>\n",
              "      <td>0</td>\n",
              "      <td>0</td>\n",
              "      <td>1</td>\n",
              "      <td>0</td>\n",
              "      <td>0</td>\n",
              "      <td>0</td>\n",
              "      <td>0</td>\n",
              "      <td>0</td>\n",
              "      <td>0</td>\n",
              "      <td>0</td>\n",
              "      <td>0</td>\n",
              "      <td>0</td>\n",
              "      <td>0</td>\n",
              "      <td>0</td>\n",
              "      <td>0</td>\n",
              "      <td>0</td>\n",
              "      <td>0</td>\n",
              "      <td>0</td>\n",
              "      <td>0</td>\n",
              "      <td>0</td>\n",
              "    </tr>\n",
              "  </tbody>\n",
              "</table>\n",
              "</div>"
            ],
            "text/plain": [
              "                     bathrooms  bedrooms  ...  cat_or_dog_allowed  pets_allowed\n",
              "created                                   ...                                  \n",
              "2016-06-24 07:54:24        1.5         3  ...                   0             0\n",
              "2016-06-12 12:19:27        1.0         2  ...                   1             1\n",
              "2016-04-17 03:26:41        1.0         1  ...                   0             0\n",
              "2016-04-18 02:22:02        1.0         1  ...                   0             0\n",
              "2016-04-28 01:32:41        1.0         4  ...                   0             0\n",
              "\n",
              "[5 rows x 31 columns]"
            ]
          },
          "metadata": {},
          "execution_count": 11
        }
      ]
    },
    {
      "cell_type": "markdown",
      "metadata": {
        "id": "zTfdtVuPpKjI"
      },
      "source": [
        "**Task 4:** Split `X` and `y` into a training set (`X_train`, `y_train`) and a test set (`X_test`, `y_test`).\n",
        "\n",
        "- Your training set should include data from April and May 2016. \n",
        "- Your test set should include data from June 2016."
      ]
    },
    {
      "cell_type": "code",
      "metadata": {
        "colab": {
          "base_uri": "https://localhost:8080/"
        },
        "id": "ZFK_G--Q_E6e",
        "outputId": "f1c06962-d120-47a3-ce9b-98a8b866a80d"
      },
      "source": [
        "# April = 4, May = 5\n",
        "mask1 = X.index.month == 4\n",
        "print(mask1)\n",
        "mask2 = X.index.month == 5\n",
        "print(mask2)\n",
        "\n",
        "mask = mask1 + mask2\n",
        "mask"
      ],
      "execution_count": 12,
      "outputs": [
        {
          "output_type": "stream",
          "name": "stdout",
          "text": [
            "[False False  True ...  True  True  True]\n",
            "[False False False ... False False False]\n"
          ]
        },
        {
          "output_type": "execute_result",
          "data": {
            "text/plain": [
              "array([False, False,  True, ...,  True,  True,  True])"
            ]
          },
          "metadata": {},
          "execution_count": 12
        }
      ]
    },
    {
      "cell_type": "code",
      "metadata": {
        "id": "Gbf0XWVApKjI",
        "colab": {
          "base_uri": "https://localhost:8080/"
        },
        "outputId": "f5d28347-e994-4118-a74a-2955de1e05eb"
      },
      "source": [
        "X_train, y_train = X.loc[mask], y.loc[mask]\n",
        "X_test, y_test = X.loc[~mask], y.loc[~mask]\n",
        "\n",
        "X_train.shape"
      ],
      "execution_count": 13,
      "outputs": [
        {
          "output_type": "execute_result",
          "data": {
            "text/plain": [
              "(30806, 31)"
            ]
          },
          "metadata": {},
          "execution_count": 13
        }
      ]
    },
    {
      "cell_type": "code",
      "metadata": {
        "colab": {
          "base_uri": "https://localhost:8080/"
        },
        "id": "i2rNJxpnCngZ",
        "outputId": "ac0bef5e-50f2-4510-aadb-b38a0e014687"
      },
      "source": [
        "X_test.shape"
      ],
      "execution_count": 14,
      "outputs": [
        {
          "output_type": "execute_result",
          "data": {
            "text/plain": [
              "(16454, 31)"
            ]
          },
          "metadata": {},
          "execution_count": 14
        }
      ]
    },
    {
      "cell_type": "markdown",
      "metadata": {
        "id": "vjnjp1BQpKjI"
      },
      "source": [
        "# III. Establish Baseline"
      ]
    },
    {
      "cell_type": "markdown",
      "metadata": {
        "id": "eEZyPm7npKjI"
      },
      "source": [
        "**Task 5:** Since this is a **regression** problem, you need to calculate the baseline mean absolute error for your model. First, calculate the mean of `y_train`. Next, create a list `y_pred` that has the same length as `y_train` and where every item in the list is the mean. Finally, use `mean_absolute_error` to calculate your baseline."
      ]
    },
    {
      "cell_type": "code",
      "metadata": {
        "id": "X_laGAAOpKjJ",
        "colab": {
          "base_uri": "https://localhost:8080/"
        },
        "outputId": "f2dccfea-0a6e-4199-893b-6c8ca4e78b73"
      },
      "source": [
        "y_pred = [y_train.mean()] * len(y_train)\n",
        "baseline_mae = mean_absolute_error(y_train, y_pred)\n",
        "print('Baseline MAE:', baseline_mae)"
      ],
      "execution_count": 15,
      "outputs": [
        {
          "output_type": "stream",
          "name": "stdout",
          "text": [
            "Baseline MAE: 1202.398300781848\n"
          ]
        }
      ]
    },
    {
      "cell_type": "markdown",
      "metadata": {
        "id": "0onQhMDxpKjJ"
      },
      "source": [
        "# IV. Build Model\n",
        "\n",
        "**Task 6:** Build and train a `LinearRegression` model named `model` using your feature matrix `X_train` and your target vector `y_train`."
      ]
    },
    {
      "cell_type": "code",
      "metadata": {
        "id": "fw1bnUrKpKjJ"
      },
      "source": [
        "# Step 1: Import predictor class\n",
        "\n",
        "\n",
        "# Step 2: Instantiate predictor\n",
        "model = LinearRegression()\n",
        "\n",
        "# Step 3: Fit predictor on the (training) data\n",
        "model.fit(X_train, y_train);"
      ],
      "execution_count": 16,
      "outputs": []
    },
    {
      "cell_type": "markdown",
      "metadata": {
        "id": "Ip7qionDpKjJ"
      },
      "source": [
        "# V. Check Metrics\n",
        "\n",
        "**Task 7:** Calculate the training and test mean absolute error for your model."
      ]
    },
    {
      "cell_type": "code",
      "metadata": {
        "id": "epIav01ppKjJ",
        "colab": {
          "base_uri": "https://localhost:8080/"
        },
        "outputId": "b86ef179-0e93-44d4-d080-605f0e5649a0"
      },
      "source": [
        "training_mae = mean_absolute_error(y_train, model.predict(X_train))\n",
        "test_mae = mean_absolute_error(y_test, model.predict(X_test))\n",
        "\n",
        "print('Training MAE:', training_mae)\n",
        "print('Test MAE:', test_mae)"
      ],
      "execution_count": 17,
      "outputs": [
        {
          "output_type": "stream",
          "name": "stdout",
          "text": [
            "Training MAE: 692.5250790561875\n",
            "Test MAE: 701.0860827674272\n"
          ]
        }
      ]
    },
    {
      "cell_type": "markdown",
      "metadata": {
        "id": "JSrCx283pKjK"
      },
      "source": [
        "**Task 8:** Calculate the training and test $R^2$ score for your model."
      ]
    },
    {
      "cell_type": "code",
      "metadata": {
        "id": "0NlpgNimpKjK",
        "colab": {
          "base_uri": "https://localhost:8080/"
        },
        "outputId": "4439b652-3837-46d1-faab-2217f64819a7"
      },
      "source": [
        "training_r2 = mean_squared_error(y_train, model.predict(X_train), squared=False)\n",
        "test_r2 = mean_squared_error(y_test, model.predict(X_test), squared=False)\n",
        "\n",
        "print('Training RSME:', training_r2)\n",
        "print('Test RSME:', test_r2)"
      ],
      "execution_count": 21,
      "outputs": [
        {
          "output_type": "stream",
          "name": "stdout",
          "text": [
            "Training RSME: 1092.6927859470782\n",
            "Test RSME: 1080.2414072139372\n"
          ]
        }
      ]
    },
    {
      "cell_type": "code",
      "metadata": {
        "colab": {
          "base_uri": "https://localhost:8080/"
        },
        "id": "L0Ls-ckeHUsE",
        "outputId": "3a1b5979-6f1d-4824-d615-05a17f7c060b"
      },
      "source": [
        "print('Training R^2:', model.score(X_train, y_train))\n",
        "print('Test R^2:', model.score(X_test, y_test))"
      ],
      "execution_count": 23,
      "outputs": [
        {
          "output_type": "stream",
          "name": "stdout",
          "text": [
            "Training R^2: 0.6163632890037458\n",
            "Test R^2: 0.6262977038183297\n"
          ]
        }
      ]
    },
    {
      "cell_type": "markdown",
      "metadata": {
        "id": "1O3GKvq6pKjK"
      },
      "source": [
        "# VI. Communicate Results\n",
        "\n",
        "**Stretch Goal:** What are the three most influential coefficients in your linear model? You should consider the _absolute value_ of each coefficient, so that it doesn't matter if it's positive or negative."
      ]
    },
    {
      "cell_type": "code",
      "metadata": {
        "id": "5MLlkf4apKjK",
        "colab": {
          "base_uri": "https://localhost:8080/"
        },
        "outputId": "099b1627-091a-49da-c4f8-8c3e05592b9d"
      },
      "source": [
        "intercept = model.intercept_\n",
        "coeff = model.coef_\n",
        "\n",
        "print('PRICE =', intercept, '+', coeff[-2], 'X CATS AND DOGS ALLOWED')"
      ],
      "execution_count": 19,
      "outputs": [
        {
          "output_type": "stream",
          "name": "stdout",
          "text": [
            "PRICE = -1070060.378830987 + 794818266133038.8 X CATS AND DOGS ALLOWED\n"
          ]
        }
      ]
    }
  ]
}