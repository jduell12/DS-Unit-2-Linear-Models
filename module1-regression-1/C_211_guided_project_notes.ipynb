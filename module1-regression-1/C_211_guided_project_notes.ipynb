{
  "nbformat": 4,
  "nbformat_minor": 0,
  "metadata": {
    "colab": {
      "name": "C_211_guided_project_notes.ipynb",
      "provenance": [],
      "include_colab_link": true
    },
    "kernelspec": {
      "name": "python3",
      "display_name": "Python 3"
    }
  },
  "cells": [
    {
      "cell_type": "markdown",
      "metadata": {
        "id": "view-in-github",
        "colab_type": "text"
      },
      "source": [
        "<a href=\"https://colab.research.google.com/github/jduell12/DS-Unit-2-Linear-Models/blob/master/C_211_guided_project_notes.ipynb\" target=\"_parent\"><img src=\"https://colab.research.google.com/assets/colab-badge.svg\" alt=\"Open In Colab\"/></a>"
      ]
    },
    {
      "cell_type": "markdown",
      "metadata": {
        "id": "CPzo2e6aFrjx"
      },
      "source": [
        "# Lambda School Data Science - Unit 2 Sprint 1 Module 1"
      ]
    },
    {
      "cell_type": "code",
      "metadata": {
        "id": "XdKtS6Gi5jul"
      },
      "source": [
        "import pandas as pd\n",
        "import matplotlib.pyplot as plt\n",
        "import numpy as np\n",
        "from sklearn.metrics import mean_absolute_error"
      ],
      "execution_count": null,
      "outputs": []
    },
    {
      "cell_type": "code",
      "metadata": {
        "id": "f_ChiaEk1_1U"
      },
      "source": [
        "import sys\n",
        "\n",
        "DATA_PATH = 'https://raw.githubusercontent.com/LambdaSchool/DS-Unit-2-Applied-Modeling/master/data/'"
      ],
      "execution_count": null,
      "outputs": []
    },
    {
      "cell_type": "markdown",
      "metadata": {
        "id": "2EVx8r5HLa6f"
      },
      "source": [
        "# I. Wrangle Data"
      ]
    },
    {
      "cell_type": "code",
      "metadata": {
        "id": "syxaPzCWqfTY",
        "colab": {
          "base_uri": "https://localhost:8080/",
          "height": 292
        },
        "outputId": "fbfc4836-083d-4b08-e74e-4c79d9477dd6"
      },
      "source": [
        "df = pd.read_csv(DATA_PATH + 'condos/tribeca.csv')\n",
        "df.head()"
      ],
      "execution_count": null,
      "outputs": [
        {
          "output_type": "execute_result",
          "data": {
            "text/html": [
              "<div>\n",
              "<style scoped>\n",
              "    .dataframe tbody tr th:only-of-type {\n",
              "        vertical-align: middle;\n",
              "    }\n",
              "\n",
              "    .dataframe tbody tr th {\n",
              "        vertical-align: top;\n",
              "    }\n",
              "\n",
              "    .dataframe thead th {\n",
              "        text-align: right;\n",
              "    }\n",
              "</style>\n",
              "<table border=\"1\" class=\"dataframe\">\n",
              "  <thead>\n",
              "    <tr style=\"text-align: right;\">\n",
              "      <th></th>\n",
              "      <th>NEIGHBORHOOD</th>\n",
              "      <th>BUILDING_CLASS_CATEGORY</th>\n",
              "      <th>ADDRESS</th>\n",
              "      <th>APARTMENT_NUMBER</th>\n",
              "      <th>ZIP_CODE</th>\n",
              "      <th>GROSS_SQUARE_FEET</th>\n",
              "      <th>YEAR_BUILT</th>\n",
              "      <th>SALE_PRICE</th>\n",
              "      <th>SALE_DATE</th>\n",
              "    </tr>\n",
              "  </thead>\n",
              "  <tbody>\n",
              "    <tr>\n",
              "      <th>0</th>\n",
              "      <td>TRIBECA</td>\n",
              "      <td>13 CONDOS - ELEVATOR APARTMENTS</td>\n",
              "      <td>181 HUDSON STREET, 6D</td>\n",
              "      <td>6D</td>\n",
              "      <td>10013.0</td>\n",
              "      <td>1840.0</td>\n",
              "      <td>1909.0</td>\n",
              "      <td>2800000</td>\n",
              "      <td>2019-01-03</td>\n",
              "    </tr>\n",
              "    <tr>\n",
              "      <th>1</th>\n",
              "      <td>TRIBECA</td>\n",
              "      <td>13 CONDOS - ELEVATOR APARTMENTS</td>\n",
              "      <td>10 LITTLE WEST STREET, 19A</td>\n",
              "      <td>19A</td>\n",
              "      <td>10004.0</td>\n",
              "      <td>1759.0</td>\n",
              "      <td>0.0</td>\n",
              "      <td>2650000</td>\n",
              "      <td>2019-01-07</td>\n",
              "    </tr>\n",
              "    <tr>\n",
              "      <th>2</th>\n",
              "      <td>TRIBECA</td>\n",
              "      <td>13 CONDOS - ELEVATOR APARTMENTS</td>\n",
              "      <td>30 LITTLE WEST STREET, 7G</td>\n",
              "      <td>7G</td>\n",
              "      <td>10004.0</td>\n",
              "      <td>1190.0</td>\n",
              "      <td>2005.0</td>\n",
              "      <td>1005000</td>\n",
              "      <td>2019-01-09</td>\n",
              "    </tr>\n",
              "    <tr>\n",
              "      <th>3</th>\n",
              "      <td>TRIBECA</td>\n",
              "      <td>13 CONDOS - ELEVATOR APARTMENTS</td>\n",
              "      <td>2 RIVER TERRACE, 4C</td>\n",
              "      <td>4C</td>\n",
              "      <td>0.0</td>\n",
              "      <td>1088.0</td>\n",
              "      <td>2006.0</td>\n",
              "      <td>1678000</td>\n",
              "      <td>2019-01-10</td>\n",
              "    </tr>\n",
              "    <tr>\n",
              "      <th>4</th>\n",
              "      <td>TRIBECA</td>\n",
              "      <td>13 CONDOS - ELEVATOR APARTMENTS</td>\n",
              "      <td>380 RECTOR PLACE, 10A</td>\n",
              "      <td>10A</td>\n",
              "      <td>10280.0</td>\n",
              "      <td>873.0</td>\n",
              "      <td>0.0</td>\n",
              "      <td>1380000</td>\n",
              "      <td>2019-01-11</td>\n",
              "    </tr>\n",
              "  </tbody>\n",
              "</table>\n",
              "</div>"
            ],
            "text/plain": [
              "  NEIGHBORHOOD          BUILDING_CLASS_CATEGORY  ... SALE_PRICE   SALE_DATE\n",
              "0      TRIBECA  13 CONDOS - ELEVATOR APARTMENTS  ...    2800000  2019-01-03\n",
              "1      TRIBECA  13 CONDOS - ELEVATOR APARTMENTS  ...    2650000  2019-01-07\n",
              "2      TRIBECA  13 CONDOS - ELEVATOR APARTMENTS  ...    1005000  2019-01-09\n",
              "3      TRIBECA  13 CONDOS - ELEVATOR APARTMENTS  ...    1678000  2019-01-10\n",
              "4      TRIBECA  13 CONDOS - ELEVATOR APARTMENTS  ...    1380000  2019-01-11\n",
              "\n",
              "[5 rows x 9 columns]"
            ]
          },
          "metadata": {},
          "execution_count": 13
        }
      ]
    },
    {
      "cell_type": "code",
      "metadata": {
        "colab": {
          "base_uri": "https://localhost:8080/"
        },
        "id": "tJHZwkkrHrQO",
        "outputId": "70d9772c-939b-4534-e150-daabcc321a31"
      },
      "source": [
        "df.shape"
      ],
      "execution_count": null,
      "outputs": [
        {
          "output_type": "execute_result",
          "data": {
            "text/plain": [
              "(90, 9)"
            ]
          },
          "metadata": {},
          "execution_count": 14
        }
      ]
    },
    {
      "cell_type": "code",
      "metadata": {
        "colab": {
          "base_uri": "https://localhost:8080/"
        },
        "id": "uXTybOO7Hs01",
        "outputId": "c1a2fed2-b824-4f59-ad5b-2362aa0e654d"
      },
      "source": [
        "df.info()"
      ],
      "execution_count": null,
      "outputs": [
        {
          "output_type": "stream",
          "text": [
            "<class 'pandas.core.frame.DataFrame'>\n",
            "RangeIndex: 90 entries, 0 to 89\n",
            "Data columns (total 9 columns):\n",
            " #   Column                   Non-Null Count  Dtype  \n",
            "---  ------                   --------------  -----  \n",
            " 0   NEIGHBORHOOD             90 non-null     object \n",
            " 1   BUILDING_CLASS_CATEGORY  90 non-null     object \n",
            " 2   ADDRESS                  90 non-null     object \n",
            " 3   APARTMENT_NUMBER         90 non-null     object \n",
            " 4   ZIP_CODE                 90 non-null     float64\n",
            " 5   GROSS_SQUARE_FEET        90 non-null     float64\n",
            " 6   YEAR_BUILT               90 non-null     float64\n",
            " 7   SALE_PRICE               90 non-null     int64  \n",
            " 8   SALE_DATE                90 non-null     object \n",
            "dtypes: float64(3), int64(1), object(5)\n",
            "memory usage: 6.5+ KB\n"
          ],
          "name": "stdout"
        }
      ]
    },
    {
      "cell_type": "code",
      "metadata": {
        "colab": {
          "base_uri": "https://localhost:8080/"
        },
        "id": "IWhjqVgfHuLG",
        "outputId": "980c5c8d-1db6-4cb1-f41e-a1eb177062be"
      },
      "source": [
        "df['NEIGHBORHOOD'].value_counts()"
      ],
      "execution_count": null,
      "outputs": [
        {
          "output_type": "execute_result",
          "data": {
            "text/plain": [
              "TRIBECA    90\n",
              "Name: NEIGHBORHOOD, dtype: int64"
            ]
          },
          "metadata": {},
          "execution_count": 16
        }
      ]
    },
    {
      "cell_type": "markdown",
      "metadata": {
        "id": "XGRCvXyfHxrt"
      },
      "source": [
        "Instead of reading data and changing as you go you can create a wrangle function to use. "
      ]
    },
    {
      "cell_type": "markdown",
      "metadata": {
        "id": "ZiiuCiazGdOc"
      },
      "source": [
        "#Clean the Data\n",
        "* Year Built is a float and should be whole integer\n",
        "* Zip code is a float and should a whole integer \n",
        "* Look at value counts of Neighborhood since it looks like they are all the same\n",
        "* Look at Building Class Category is the same \n",
        "\n",
        "Constant Values:\n",
        "- Building_Class_Category\n",
        "- Neighborhood\n",
        "\n",
        "Constant Values are not helpful for the model since the model needs changing data to be able to learn and not constant data "
      ]
    },
    {
      "cell_type": "code",
      "metadata": {
        "id": "VeReYSzHH5CZ"
      },
      "source": [
        "def wrangle(filepath):\n",
        "  df = pd.read_csv(filepath, dtype={'ZIP_CODE': int, 'YEAR_BUILT':int}, parse_dates=['SALE_DATE'], index_col='SALE_DATE')\n",
        "  # Replace 0 with NAN\n",
        "  df.replace(0, np.nan, inplace=True)\n",
        "  # Drop constant-value and high cardinality columns \n",
        "  drop_cols = ['NEIGHBORHOOD', 'BUILDING_CLASS_CATEGORY', 'ADDRESS', 'APARTMENT_NUMBER']\n",
        "  df.drop(columns=drop_cols, inplace=True)\n",
        "  return df "
      ],
      "execution_count": null,
      "outputs": []
    },
    {
      "cell_type": "code",
      "metadata": {
        "colab": {
          "base_uri": "https://localhost:8080/",
          "height": 236
        },
        "id": "4j-cdCtnH90S",
        "outputId": "1021b004-d9fa-42cc-9a69-ad7a63a0820f"
      },
      "source": [
        "df = wrangle(DATA_PATH + 'condos/tribeca.csv')\n",
        "df.head()"
      ],
      "execution_count": null,
      "outputs": [
        {
          "output_type": "execute_result",
          "data": {
            "text/html": [
              "<div>\n",
              "<style scoped>\n",
              "    .dataframe tbody tr th:only-of-type {\n",
              "        vertical-align: middle;\n",
              "    }\n",
              "\n",
              "    .dataframe tbody tr th {\n",
              "        vertical-align: top;\n",
              "    }\n",
              "\n",
              "    .dataframe thead th {\n",
              "        text-align: right;\n",
              "    }\n",
              "</style>\n",
              "<table border=\"1\" class=\"dataframe\">\n",
              "  <thead>\n",
              "    <tr style=\"text-align: right;\">\n",
              "      <th></th>\n",
              "      <th>ZIP_CODE</th>\n",
              "      <th>GROSS_SQUARE_FEET</th>\n",
              "      <th>YEAR_BUILT</th>\n",
              "      <th>SALE_PRICE</th>\n",
              "    </tr>\n",
              "    <tr>\n",
              "      <th>SALE_DATE</th>\n",
              "      <th></th>\n",
              "      <th></th>\n",
              "      <th></th>\n",
              "      <th></th>\n",
              "    </tr>\n",
              "  </thead>\n",
              "  <tbody>\n",
              "    <tr>\n",
              "      <th>2019-01-03</th>\n",
              "      <td>10013.0</td>\n",
              "      <td>1840.0</td>\n",
              "      <td>1909.0</td>\n",
              "      <td>2800000</td>\n",
              "    </tr>\n",
              "    <tr>\n",
              "      <th>2019-01-07</th>\n",
              "      <td>10004.0</td>\n",
              "      <td>1759.0</td>\n",
              "      <td>NaN</td>\n",
              "      <td>2650000</td>\n",
              "    </tr>\n",
              "    <tr>\n",
              "      <th>2019-01-09</th>\n",
              "      <td>10004.0</td>\n",
              "      <td>1190.0</td>\n",
              "      <td>2005.0</td>\n",
              "      <td>1005000</td>\n",
              "    </tr>\n",
              "    <tr>\n",
              "      <th>2019-01-10</th>\n",
              "      <td>NaN</td>\n",
              "      <td>1088.0</td>\n",
              "      <td>2006.0</td>\n",
              "      <td>1678000</td>\n",
              "    </tr>\n",
              "    <tr>\n",
              "      <th>2019-01-11</th>\n",
              "      <td>10280.0</td>\n",
              "      <td>873.0</td>\n",
              "      <td>NaN</td>\n",
              "      <td>1380000</td>\n",
              "    </tr>\n",
              "  </tbody>\n",
              "</table>\n",
              "</div>"
            ],
            "text/plain": [
              "            ZIP_CODE  GROSS_SQUARE_FEET  YEAR_BUILT  SALE_PRICE\n",
              "SALE_DATE                                                      \n",
              "2019-01-03   10013.0             1840.0      1909.0     2800000\n",
              "2019-01-07   10004.0             1759.0         NaN     2650000\n",
              "2019-01-09   10004.0             1190.0      2005.0     1005000\n",
              "2019-01-10       NaN             1088.0      2006.0     1678000\n",
              "2019-01-11   10280.0              873.0         NaN     1380000"
            ]
          },
          "metadata": {},
          "execution_count": 51
        }
      ]
    },
    {
      "cell_type": "code",
      "metadata": {
        "colab": {
          "base_uri": "https://localhost:8080/"
        },
        "id": "q2p39IXqJWB8",
        "outputId": "b6b9239a-2ce5-4ccf-dd8d-4fa789437d9e"
      },
      "source": [
        "df.info()"
      ],
      "execution_count": null,
      "outputs": [
        {
          "output_type": "stream",
          "text": [
            "<class 'pandas.core.frame.DataFrame'>\n",
            "DatetimeIndex: 90 entries, 2019-01-03 to 2019-04-30\n",
            "Data columns (total 6 columns):\n",
            " #   Column             Non-Null Count  Dtype  \n",
            "---  ------             --------------  -----  \n",
            " 0   ADDRESS            90 non-null     object \n",
            " 1   APARTMENT_NUMBER   90 non-null     object \n",
            " 2   ZIP_CODE           86 non-null     float64\n",
            " 3   GROSS_SQUARE_FEET  90 non-null     float64\n",
            " 4   YEAR_BUILT         72 non-null     float64\n",
            " 5   SALE_PRICE         90 non-null     int64  \n",
            "dtypes: float64(3), int64(1), object(2)\n",
            "memory usage: 4.9+ KB\n"
          ],
          "name": "stdout"
        }
      ]
    },
    {
      "cell_type": "code",
      "metadata": {
        "colab": {
          "base_uri": "https://localhost:8080/",
          "height": 290
        },
        "id": "iobO1dWtLxmX",
        "outputId": "973eb4c5-9422-4d1e-ca0d-b80238925080"
      },
      "source": [
        "plt.scatter(df['GROSS_SQUARE_FEET'], df['SALE_PRICE'])\n",
        "plt.xlabel('Square Feet')\n",
        "plt.ylabel('Sale Price');"
      ],
      "execution_count": null,
      "outputs": [
        {
          "output_type": "display_data",
          "data": {
            "image/png": "[encoded data removed]",
            "text/plain": [
              "<Figure size 432x288 with 1 Axes>"
            ]
          },
          "metadata": {
            "needs_background": "light"
          }
        }
      ]
    },
    {
      "cell_type": "markdown",
      "metadata": {
        "id": "y3IgOdM7MAxu"
      },
      "source": [
        "Appears to be a strong positive correlation between square feet and price. \n",
        "\n",
        "As square feet increases the price increases by a certain amount. \n",
        "\n",
        "Put the line on the chart via the slope intercept formula:\n",
        "y = mx + b \n",
        "\n",
        "Change into:\n",
        "y = B$_0$ + B$_1$x\n",
        "\n",
        "y = sale price\n",
        "\n",
        "x = square feet \n",
        "\n",
        "B$_0$ = coefficient \n",
        "\n",
        "B$_1$ = coefficient "
      ]
    },
    {
      "cell_type": "markdown",
      "metadata": {
        "id": "GgRcyfQMXhzJ"
      },
      "source": [
        "# II. Split Data\n",
        "\n",
        "Split our dataset into a **feature matrix `X`** and a **target vector `y`**."
      ]
    },
    {
      "cell_type": "code",
      "metadata": {
        "id": "wTYqSJ8chRGa"
      },
      "source": [
        "# feature matrix should be 2D\n",
        "X = df[['GROSS_SQUARE_FEET']]\n",
        "# target vector should be 1D\n",
        "y = df['SALE_PRICE']"
      ],
      "execution_count": null,
      "outputs": []
    },
    {
      "cell_type": "code",
      "metadata": {
        "colab": {
          "base_uri": "https://localhost:8080/"
        },
        "id": "3FtClERiNRLA",
        "outputId": "e8d02f71-9df0-4b51-a78f-8074c91b4fe6"
      },
      "source": [
        "X.shape"
      ],
      "execution_count": null,
      "outputs": [
        {
          "output_type": "execute_result",
          "data": {
            "text/plain": [
              "(90, 1)"
            ]
          },
          "metadata": {},
          "execution_count": 56
        }
      ]
    },
    {
      "cell_type": "code",
      "metadata": {
        "colab": {
          "base_uri": "https://localhost:8080/",
          "height": 236
        },
        "id": "kylqCtJoNS0n",
        "outputId": "5d01b4c9-8ca0-4f8e-8c4f-7700663a2d03"
      },
      "source": [
        "X.head()"
      ],
      "execution_count": null,
      "outputs": [
        {
          "output_type": "execute_result",
          "data": {
            "text/html": [
              "<div>\n",
              "<style scoped>\n",
              "    .dataframe tbody tr th:only-of-type {\n",
              "        vertical-align: middle;\n",
              "    }\n",
              "\n",
              "    .dataframe tbody tr th {\n",
              "        vertical-align: top;\n",
              "    }\n",
              "\n",
              "    .dataframe thead th {\n",
              "        text-align: right;\n",
              "    }\n",
              "</style>\n",
              "<table border=\"1\" class=\"dataframe\">\n",
              "  <thead>\n",
              "    <tr style=\"text-align: right;\">\n",
              "      <th></th>\n",
              "      <th>GROSS_SQUARE_FEET</th>\n",
              "    </tr>\n",
              "    <tr>\n",
              "      <th>SALE_DATE</th>\n",
              "      <th></th>\n",
              "    </tr>\n",
              "  </thead>\n",
              "  <tbody>\n",
              "    <tr>\n",
              "      <th>2019-01-03</th>\n",
              "      <td>1840.0</td>\n",
              "    </tr>\n",
              "    <tr>\n",
              "      <th>2019-01-07</th>\n",
              "      <td>1759.0</td>\n",
              "    </tr>\n",
              "    <tr>\n",
              "      <th>2019-01-09</th>\n",
              "      <td>1190.0</td>\n",
              "    </tr>\n",
              "    <tr>\n",
              "      <th>2019-01-10</th>\n",
              "      <td>1088.0</td>\n",
              "    </tr>\n",
              "    <tr>\n",
              "      <th>2019-01-11</th>\n",
              "      <td>873.0</td>\n",
              "    </tr>\n",
              "  </tbody>\n",
              "</table>\n",
              "</div>"
            ],
            "text/plain": [
              "            GROSS_SQUARE_FEET\n",
              "SALE_DATE                    \n",
              "2019-01-03             1840.0\n",
              "2019-01-07             1759.0\n",
              "2019-01-09             1190.0\n",
              "2019-01-10             1088.0\n",
              "2019-01-11              873.0"
            ]
          },
          "metadata": {},
          "execution_count": 57
        }
      ]
    },
    {
      "cell_type": "code",
      "metadata": {
        "colab": {
          "base_uri": "https://localhost:8080/"
        },
        "id": "RgQKhdYRNbTn",
        "outputId": "ea14a4be-cec0-4de8-9e6e-ead823444423"
      },
      "source": [
        "y.shape"
      ],
      "execution_count": null,
      "outputs": [
        {
          "output_type": "execute_result",
          "data": {
            "text/plain": [
              "(90,)"
            ]
          },
          "metadata": {},
          "execution_count": 58
        }
      ]
    },
    {
      "cell_type": "code",
      "metadata": {
        "colab": {
          "base_uri": "https://localhost:8080/"
        },
        "id": "PLISVA3oNck1",
        "outputId": "35d8c1e0-bc44-4f39-e680-47c88ed3aebf"
      },
      "source": [
        "y.head()"
      ],
      "execution_count": null,
      "outputs": [
        {
          "output_type": "execute_result",
          "data": {
            "text/plain": [
              "SALE_DATE\n",
              "2019-01-03    2800000\n",
              "2019-01-07    2650000\n",
              "2019-01-09    1005000\n",
              "2019-01-10    1678000\n",
              "2019-01-11    1380000\n",
              "Name: SALE_PRICE, dtype: int64"
            ]
          },
          "metadata": {},
          "execution_count": 59
        }
      ]
    },
    {
      "cell_type": "markdown",
      "metadata": {
        "id": "CuwsiXRlYsjG"
      },
      "source": [
        "# III. Establish Baseline\n",
        "\n",
        "If you had a *naïve model* that could only predict one value, how well would you model perform?"
      ]
    },
    {
      "cell_type": "code",
      "metadata": {
        "id": "1Ek2mN04hTmT"
      },
      "source": [
        "y_pred = [y.mean()] * len(y)"
      ],
      "execution_count": null,
      "outputs": []
    },
    {
      "cell_type": "code",
      "metadata": {
        "id": "NiWjkzmiBU3I",
        "colab": {
          "base_uri": "https://localhost:8080/"
        },
        "outputId": "e378e285-da3f-47f0-a048-a3f5977f6fe8"
      },
      "source": [
        "baseline_mae = ...\n",
        "print('Mean Sale Price', y.mean())\n",
        "print('Baseline MAE:', mean_absolute_error(y, y_pred))"
      ],
      "execution_count": null,
      "outputs": [
        {
          "output_type": "stream",
          "text": [
            "Mean Sale Price 3928736.3666666667\n",
            "Baseline MAE: 2783380.1977777784\n"
          ],
          "name": "stdout"
        }
      ]
    },
    {
      "cell_type": "code",
      "metadata": {
        "colab": {
          "base_uri": "https://localhost:8080/",
          "height": 307
        },
        "id": "YXnF3QRKOauq",
        "outputId": "63d77908-b59d-48b4-804e-58a85b567d0e"
      },
      "source": [
        "plt.scatter(df['GROSS_SQUARE_FEET'], df['SALE_PRICE'])\n",
        "plt.scatter(df['GROSS_SQUARE_FEET'], y_pred, color='grey', label='Baseline')\n",
        "plt.xlabel('Square Feet')\n",
        "plt.ylabel('Sale Price');\n",
        "plt.legend()"
      ],
      "execution_count": null,
      "outputs": [
        {
          "output_type": "execute_result",
          "data": {
            "text/plain": [
              "<matplotlib.legend.Legend at 0x7f97a4915650>"
            ]
          },
          "metadata": {},
          "execution_count": 64
        },
        {
          "output_type": "display_data",
          "data": {
            "image/png": "[encoded data removed]",
            "text/plain": [
              "<Figure size 432x288 with 1 Axes>"
            ]
          },
          "metadata": {
            "needs_background": "light"
          }
        }
      ]
    },
    {
      "cell_type": "markdown",
      "metadata": {
        "id": "3bFjzSkUdl21"
      },
      "source": [
        "# IV. Build Model"
      ]
    },
    {
      "cell_type": "code",
      "metadata": {
        "id": "teYsy_7fhWiG"
      },
      "source": [
        "# Step 1: Import predictor Class\n",
        "from sklearn.linear_model import LinearRegression"
      ],
      "execution_count": null,
      "outputs": []
    },
    {
      "cell_type": "code",
      "metadata": {
        "id": "Kn6sZeGkPEvS"
      },
      "source": [
        "# Step 2: Instantiate my predictor\n",
        "model = LinearRegression()"
      ],
      "execution_count": null,
      "outputs": []
    },
    {
      "cell_type": "code",
      "metadata": {
        "colab": {
          "base_uri": "https://localhost:8080/"
        },
        "id": "4iTEWPAqPG4j",
        "outputId": "4c0a0353-f738-4131-cecd-9e8ef192d4be"
      },
      "source": [
        "# Step 3: FIT my predictor on the (training) data\n",
        "model.fit(X, y)"
      ],
      "execution_count": null,
      "outputs": [
        {
          "output_type": "execute_result",
          "data": {
            "text/plain": [
              "LinearRegression(copy_X=True, fit_intercept=True, n_jobs=None, normalize=False)"
            ]
          },
          "metadata": {},
          "execution_count": 70
        }
      ]
    },
    {
      "cell_type": "markdown",
      "metadata": {
        "id": "Lo3CypnUfIwc"
      },
      "source": [
        "# V. Check Metrics"
      ]
    },
    {
      "cell_type": "code",
      "metadata": {
        "id": "l1WsFoaUJ_Vx",
        "colab": {
          "base_uri": "https://localhost:8080/"
        },
        "outputId": "caef7377-3b5a-49c2-db7c-13fed2e1311f"
      },
      "source": [
        "y_pred = model.predict(X)\n",
        "training_mae = mean_absolute_error(y, y_pred)\n",
        "print('Training MAE:', training_mae)"
      ],
      "execution_count": null,
      "outputs": [
        {
          "output_type": "stream",
          "text": [
            "Training MAE: 1176817.9930150746\n"
          ],
          "name": "stdout"
        }
      ]
    },
    {
      "cell_type": "markdown",
      "metadata": {
        "id": "-LMY0RmQPzhe"
      },
      "source": [
        "Model is off by less Money than the naive model which means it is a better model."
      ]
    },
    {
      "cell_type": "markdown",
      "metadata": {
        "id": "jGYUL1mufdS-"
      },
      "source": [
        "# VI. Communicate Results\n",
        "\n",
        "Plot model"
      ]
    },
    {
      "cell_type": "code",
      "metadata": {
        "id": "y6RUbvFdB3jl",
        "colab": {
          "base_uri": "https://localhost:8080/",
          "height": 307
        },
        "outputId": "0625a714-24b5-46b5-973e-bb6f6c8e0168"
      },
      "source": [
        "plt.scatter(df['GROSS_SQUARE_FEET'], df['SALE_PRICE'])\n",
        "plt.plot(df['GROSS_SQUARE_FEET'], [y.mean()]*len(y), color='grey', label='Baseline')\n",
        "plt.plot(X, model.predict(X), color='orange', label='Linear Regression')\n",
        "plt.xlabel('Square Feet')\n",
        "plt.ylabel('Sale Price');\n",
        "plt.legend()"
      ],
      "execution_count": null,
      "outputs": [
        {
          "output_type": "execute_result",
          "data": {
            "text/plain": [
              "<matplotlib.legend.Legend at 0x7f97a2eb9c90>"
            ]
          },
          "metadata": {},
          "execution_count": 75
        },
        {
          "output_type": "display_data",
          "data": {
            "image/png": "[encoded data removed]",
            "text/plain": [
              "<Figure size 432x288 with 1 Axes>"
            ]
          },
          "metadata": {
            "needs_background": "light"
          }
        }
      ]
    },
    {
      "cell_type": "markdown",
      "metadata": {
        "id": "qsDBGc49K7Uh"
      },
      "source": [
        "What are our beta coefficients?"
      ]
    },
    {
      "cell_type": "code",
      "metadata": {
        "id": "rgoaqGY_KjnH",
        "colab": {
          "base_uri": "https://localhost:8080/"
        },
        "outputId": "d4ffc603-0efb-427d-e558-1c9e5a834e32"
      },
      "source": [
        "model.coef_"
      ],
      "execution_count": null,
      "outputs": [
        {
          "output_type": "execute_result",
          "data": {
            "text/plain": [
              "array([3076.44765542])"
            ]
          },
          "metadata": {},
          "execution_count": 76
        }
      ]
    },
    {
      "cell_type": "code",
      "metadata": {
        "colab": {
          "base_uri": "https://localhost:8080/"
        },
        "id": "Bi2q7yqFQX_k",
        "outputId": "b332e478-5b2f-4ab7-bfca-7490a146d660"
      },
      "source": [
        "model.intercept_"
      ],
      "execution_count": null,
      "outputs": [
        {
          "output_type": "execute_result",
          "data": {
            "text/plain": [
              "-1505364.0408585514"
            ]
          },
          "metadata": {},
          "execution_count": 77
        }
      ]
    },
    {
      "cell_type": "code",
      "metadata": {
        "id": "6a-GOP4BLMOB"
      },
      "source": [
        "B_0 = -1505364.04 # model.coef_\n",
        "B_1 = 3076.45 #model.intercept_"
      ],
      "execution_count": null,
      "outputs": []
    },
    {
      "cell_type": "code",
      "metadata": {
        "colab": {
          "base_uri": "https://localhost:8080/"
        },
        "id": "QIzq4luvQlCU",
        "outputId": "e831e012-4b62-402c-faa4-4dabfa589b0e"
      },
      "source": [
        "print(f'SALE PRICE = {B_0} + {B_1}*SQAURE FEET')"
      ],
      "execution_count": null,
      "outputs": [
        {
          "output_type": "stream",
          "text": [
            "SALE PRICE = -1505364.04 + 3076.45*SQAURE FEET\n"
          ],
          "name": "stdout"
        }
      ]
    }
  ]
}