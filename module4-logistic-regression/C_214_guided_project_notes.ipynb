{
  "nbformat": 4,
  "nbformat_minor": 0,
  "metadata": {
    "colab": {
      "name": "214_guided_project_notes.ipynb",
      "provenance": [],
      "collapsed_sections": [],
      "include_colab_link": true
    },
    "kernelspec": {
      "name": "python3",
      "display_name": "Python 3"
    }
  },
  "cells": [
    {
      "cell_type": "markdown",
      "metadata": {
        "id": "view-in-github",
        "colab_type": "text"
      },
      "source": [
        "<a href=\"https://colab.research.google.com/github/jduell12/DS-Unit-2-Linear-Models/blob/master/C_214_guided_project_notes.ipynb\" target=\"_parent\"><img src=\"https://colab.research.google.com/assets/colab-badge.svg\" alt=\"Open In Colab\"/></a>"
      ]
    },
    {
      "cell_type": "markdown",
      "metadata": {
        "id": "ff_NZhdHCvfc"
      },
      "source": [
        "Lambda School Data Science\n",
        "\n",
        "*Unit 2, Sprint 1, Module 4*\n",
        "\n",
        "---"
      ]
    },
    {
      "cell_type": "code",
      "metadata": {
        "id": "IorwKysWC9zl"
      },
      "source": [
        "%%capture\n",
        "import sys\n",
        "\n",
        "# If you're on Colab:\n",
        "if 'google.colab' in sys.modules:\n",
        "    DATA_PATH = 'https://raw.githubusercontent.com/LambdaSchool/DS-Unit-2-Linear-Models/master/data/'\n",
        "    !pip install category_encoders==2.*\n",
        "\n",
        "# If you're working locally:\n",
        "else:\n",
        "    DATA_PATH = '../data/'\n",
        "\n",
        "# Libraries for today's project\n",
        "from category_encoders import OneHotEncoder\n",
        "from sklearn.impute import SimpleImputer\n",
        "from sklearn.linear_model import LogisticRegression\n",
        "from sklearn.model_selection import train_test_split\n",
        "from sklearn.pipeline import make_pipeline\n",
        "from sklearn.preprocessing import StandardScaler\n",
        "import matplotlib.pyplot as plt\n",
        "import pandas as pd"
      ],
      "execution_count": 36,
      "outputs": []
    },
    {
      "cell_type": "markdown",
      "metadata": {
        "id": "u0tT4qPmCzUF"
      },
      "source": [
        "# Part 1: Sprint Challenge Practice\n",
        "\n",
        "- Can I import a CSV file into a DataFrame?\n",
        "- Can I create a scatter plot?\n",
        "- Can I split a DataFrame into a target vector and feature matrix?\n",
        "- Can I split a dataset into a training set and a test set?\n",
        "- Can I establish the baseline mean absolute error for a regression problem?\n",
        "- Can I combine transformers with a predictor using a pipeline?\n",
        "- Can I build a linear regresion model and a ridge regression model?\n",
        "- Can I evaluate a model using common metrics like mean absolute error, root mean squared error, and R^2?\n",
        "- If given a feature matrix, can I use my model to create a list of predictions?\n",
        "- Can I create a horizontal bar chart with the coefficients from a linear model?"
      ]
    },
    {
      "cell_type": "markdown",
      "metadata": {
        "id": "x-sAbpUqC3dt"
      },
      "source": [
        "# Part 2: Pipelines and Plotting\n",
        "\n",
        "Let's revise [our work from yesterday](https://tinyurl.com/yb9cz6n5)."
      ]
    },
    {
      "cell_type": "markdown",
      "metadata": {
        "id": "XD8xTT0yC-bq"
      },
      "source": [
        "# Part 3: Logistic Regression"
      ]
    },
    {
      "cell_type": "markdown",
      "metadata": {
        "id": "2Cz8n4xnWmok"
      },
      "source": [
        "# I. Wrangle Data"
      ]
    },
    {
      "cell_type": "code",
      "metadata": {
        "id": "BMkDazfUzP_v"
      },
      "source": [
        "def wrangle(filepath):\n",
        "  df = pd.read_csv(filepath, index_col='PassengerId', dtype={'Pclass': 'object'})\n",
        "  # drop high cardinality categorical columns \n",
        "  df.drop(columns=['Name', 'Ticket', 'Cabin'], inplace=True)\n",
        "  return df\n",
        "\n",
        "df = wrangle(DATA_PATH + 'titanic/train.csv')\n",
        "X_test = wrangle(DATA_PATH + 'titanic/test.csv')"
      ],
      "execution_count": 37,
      "outputs": []
    },
    {
      "cell_type": "code",
      "metadata": {
        "colab": {
          "base_uri": "https://localhost:8080/",
          "height": 236
        },
        "id": "fNYzNlNXA1ed",
        "outputId": "e4171a76-22a9-4350-97e6-305b79f5676f"
      },
      "source": [
        "df.head()"
      ],
      "execution_count": 38,
      "outputs": [
        {
          "output_type": "execute_result",
          "data": {
            "text/html": [
              "<div>\n",
              "<style scoped>\n",
              "    .dataframe tbody tr th:only-of-type {\n",
              "        vertical-align: middle;\n",
              "    }\n",
              "\n",
              "    .dataframe tbody tr th {\n",
              "        vertical-align: top;\n",
              "    }\n",
              "\n",
              "    .dataframe thead th {\n",
              "        text-align: right;\n",
              "    }\n",
              "</style>\n",
              "<table border=\"1\" class=\"dataframe\">\n",
              "  <thead>\n",
              "    <tr style=\"text-align: right;\">\n",
              "      <th></th>\n",
              "      <th>Survived</th>\n",
              "      <th>Pclass</th>\n",
              "      <th>Sex</th>\n",
              "      <th>Age</th>\n",
              "      <th>SibSp</th>\n",
              "      <th>Parch</th>\n",
              "      <th>Fare</th>\n",
              "      <th>Embarked</th>\n",
              "    </tr>\n",
              "    <tr>\n",
              "      <th>PassengerId</th>\n",
              "      <th></th>\n",
              "      <th></th>\n",
              "      <th></th>\n",
              "      <th></th>\n",
              "      <th></th>\n",
              "      <th></th>\n",
              "      <th></th>\n",
              "      <th></th>\n",
              "    </tr>\n",
              "  </thead>\n",
              "  <tbody>\n",
              "    <tr>\n",
              "      <th>1</th>\n",
              "      <td>0</td>\n",
              "      <td>3</td>\n",
              "      <td>male</td>\n",
              "      <td>22.0</td>\n",
              "      <td>1</td>\n",
              "      <td>0</td>\n",
              "      <td>7.2500</td>\n",
              "      <td>S</td>\n",
              "    </tr>\n",
              "    <tr>\n",
              "      <th>2</th>\n",
              "      <td>1</td>\n",
              "      <td>1</td>\n",
              "      <td>female</td>\n",
              "      <td>38.0</td>\n",
              "      <td>1</td>\n",
              "      <td>0</td>\n",
              "      <td>71.2833</td>\n",
              "      <td>C</td>\n",
              "    </tr>\n",
              "    <tr>\n",
              "      <th>3</th>\n",
              "      <td>1</td>\n",
              "      <td>3</td>\n",
              "      <td>female</td>\n",
              "      <td>26.0</td>\n",
              "      <td>0</td>\n",
              "      <td>0</td>\n",
              "      <td>7.9250</td>\n",
              "      <td>S</td>\n",
              "    </tr>\n",
              "    <tr>\n",
              "      <th>4</th>\n",
              "      <td>1</td>\n",
              "      <td>1</td>\n",
              "      <td>female</td>\n",
              "      <td>35.0</td>\n",
              "      <td>1</td>\n",
              "      <td>0</td>\n",
              "      <td>53.1000</td>\n",
              "      <td>S</td>\n",
              "    </tr>\n",
              "    <tr>\n",
              "      <th>5</th>\n",
              "      <td>0</td>\n",
              "      <td>3</td>\n",
              "      <td>male</td>\n",
              "      <td>35.0</td>\n",
              "      <td>0</td>\n",
              "      <td>0</td>\n",
              "      <td>8.0500</td>\n",
              "      <td>S</td>\n",
              "    </tr>\n",
              "  </tbody>\n",
              "</table>\n",
              "</div>"
            ],
            "text/plain": [
              "             Survived Pclass     Sex   Age  SibSp  Parch     Fare Embarked\n",
              "PassengerId                                                               \n",
              "1                   0      3    male  22.0      1      0   7.2500        S\n",
              "2                   1      1  female  38.0      1      0  71.2833        C\n",
              "3                   1      3  female  26.0      0      0   7.9250        S\n",
              "4                   1      1  female  35.0      1      0  53.1000        S\n",
              "5                   0      3    male  35.0      0      0   8.0500        S"
            ]
          },
          "metadata": {},
          "execution_count": 38
        }
      ]
    },
    {
      "cell_type": "code",
      "metadata": {
        "colab": {
          "base_uri": "https://localhost:8080/"
        },
        "id": "-_qjgemnBO-5",
        "outputId": "047133d2-921b-4a99-c957-345d51e4edf6"
      },
      "source": [
        "df.shape"
      ],
      "execution_count": 39,
      "outputs": [
        {
          "output_type": "execute_result",
          "data": {
            "text/plain": [
              "(891, 8)"
            ]
          },
          "metadata": {},
          "execution_count": 39
        }
      ]
    },
    {
      "cell_type": "code",
      "metadata": {
        "colab": {
          "base_uri": "https://localhost:8080/"
        },
        "id": "zsVegPzRCrcM",
        "outputId": "a43aed56-30ee-472a-a375-0210c069fb01"
      },
      "source": [
        "df.info()"
      ],
      "execution_count": 40,
      "outputs": [
        {
          "output_type": "stream",
          "name": "stdout",
          "text": [
            "<class 'pandas.core.frame.DataFrame'>\n",
            "Int64Index: 891 entries, 1 to 891\n",
            "Data columns (total 8 columns):\n",
            " #   Column    Non-Null Count  Dtype  \n",
            "---  ------    --------------  -----  \n",
            " 0   Survived  891 non-null    int64  \n",
            " 1   Pclass    891 non-null    object \n",
            " 2   Sex       891 non-null    object \n",
            " 3   Age       714 non-null    float64\n",
            " 4   SibSp     891 non-null    int64  \n",
            " 5   Parch     891 non-null    int64  \n",
            " 6   Fare      891 non-null    float64\n",
            " 7   Embarked  889 non-null    object \n",
            "dtypes: float64(2), int64(3), object(3)\n",
            "memory usage: 62.6+ KB\n"
          ]
        }
      ]
    },
    {
      "cell_type": "code",
      "metadata": {
        "colab": {
          "base_uri": "https://localhost:8080/"
        },
        "id": "fPf68EdrCwET",
        "outputId": "69596deb-9591-4156-8f27-18b3fe4020b2"
      },
      "source": [
        "df['Survived'].head()"
      ],
      "execution_count": 41,
      "outputs": [
        {
          "output_type": "execute_result",
          "data": {
            "text/plain": [
              "PassengerId\n",
              "1    0\n",
              "2    1\n",
              "3    1\n",
              "4    1\n",
              "5    0\n",
              "Name: Survived, dtype: int64"
            ]
          },
          "metadata": {},
          "execution_count": 41
        }
      ]
    },
    {
      "cell_type": "code",
      "metadata": {
        "colab": {
          "base_uri": "https://localhost:8080/",
          "height": 236
        },
        "id": "nsm2jwK7BVhI",
        "outputId": "dac52518-d81a-48c3-f249-d15ce01d082a"
      },
      "source": [
        "X_test.head()"
      ],
      "execution_count": 42,
      "outputs": [
        {
          "output_type": "execute_result",
          "data": {
            "text/html": [
              "<div>\n",
              "<style scoped>\n",
              "    .dataframe tbody tr th:only-of-type {\n",
              "        vertical-align: middle;\n",
              "    }\n",
              "\n",
              "    .dataframe tbody tr th {\n",
              "        vertical-align: top;\n",
              "    }\n",
              "\n",
              "    .dataframe thead th {\n",
              "        text-align: right;\n",
              "    }\n",
              "</style>\n",
              "<table border=\"1\" class=\"dataframe\">\n",
              "  <thead>\n",
              "    <tr style=\"text-align: right;\">\n",
              "      <th></th>\n",
              "      <th>Pclass</th>\n",
              "      <th>Sex</th>\n",
              "      <th>Age</th>\n",
              "      <th>SibSp</th>\n",
              "      <th>Parch</th>\n",
              "      <th>Fare</th>\n",
              "      <th>Embarked</th>\n",
              "    </tr>\n",
              "    <tr>\n",
              "      <th>PassengerId</th>\n",
              "      <th></th>\n",
              "      <th></th>\n",
              "      <th></th>\n",
              "      <th></th>\n",
              "      <th></th>\n",
              "      <th></th>\n",
              "      <th></th>\n",
              "    </tr>\n",
              "  </thead>\n",
              "  <tbody>\n",
              "    <tr>\n",
              "      <th>892</th>\n",
              "      <td>3</td>\n",
              "      <td>male</td>\n",
              "      <td>34.5</td>\n",
              "      <td>0</td>\n",
              "      <td>0</td>\n",
              "      <td>7.8292</td>\n",
              "      <td>Q</td>\n",
              "    </tr>\n",
              "    <tr>\n",
              "      <th>893</th>\n",
              "      <td>3</td>\n",
              "      <td>female</td>\n",
              "      <td>47.0</td>\n",
              "      <td>1</td>\n",
              "      <td>0</td>\n",
              "      <td>7.0000</td>\n",
              "      <td>S</td>\n",
              "    </tr>\n",
              "    <tr>\n",
              "      <th>894</th>\n",
              "      <td>2</td>\n",
              "      <td>male</td>\n",
              "      <td>62.0</td>\n",
              "      <td>0</td>\n",
              "      <td>0</td>\n",
              "      <td>9.6875</td>\n",
              "      <td>Q</td>\n",
              "    </tr>\n",
              "    <tr>\n",
              "      <th>895</th>\n",
              "      <td>3</td>\n",
              "      <td>male</td>\n",
              "      <td>27.0</td>\n",
              "      <td>0</td>\n",
              "      <td>0</td>\n",
              "      <td>8.6625</td>\n",
              "      <td>S</td>\n",
              "    </tr>\n",
              "    <tr>\n",
              "      <th>896</th>\n",
              "      <td>3</td>\n",
              "      <td>female</td>\n",
              "      <td>22.0</td>\n",
              "      <td>1</td>\n",
              "      <td>1</td>\n",
              "      <td>12.2875</td>\n",
              "      <td>S</td>\n",
              "    </tr>\n",
              "  </tbody>\n",
              "</table>\n",
              "</div>"
            ],
            "text/plain": [
              "            Pclass     Sex   Age  SibSp  Parch     Fare Embarked\n",
              "PassengerId                                                     \n",
              "892              3    male  34.5      0      0   7.8292        Q\n",
              "893              3  female  47.0      1      0   7.0000        S\n",
              "894              2    male  62.0      0      0   9.6875        Q\n",
              "895              3    male  27.0      0      0   8.6625        S\n",
              "896              3  female  22.0      1      1  12.2875        S"
            ]
          },
          "metadata": {},
          "execution_count": 42
        }
      ]
    },
    {
      "cell_type": "code",
      "metadata": {
        "colab": {
          "base_uri": "https://localhost:8080/"
        },
        "id": "jcBnUfbwBRWc",
        "outputId": "16f2e528-a2c3-4a30-9177-b254e4bb5a66"
      },
      "source": [
        "X_test.shape"
      ],
      "execution_count": 43,
      "outputs": [
        {
          "output_type": "execute_result",
          "data": {
            "text/plain": [
              "(418, 7)"
            ]
          },
          "metadata": {},
          "execution_count": 43
        }
      ]
    },
    {
      "cell_type": "markdown",
      "metadata": {
        "id": "Vy-2aFoDXrar"
      },
      "source": [
        "## II. Split Data"
      ]
    },
    {
      "cell_type": "code",
      "metadata": {
        "id": "ARITmeldXfvP"
      },
      "source": [
        "# split target vector from feature matrix\n",
        "target = 'Survived'\n",
        "y = df[target]\n",
        "X = df.drop(columns=target)"
      ],
      "execution_count": 44,
      "outputs": []
    },
    {
      "cell_type": "code",
      "metadata": {
        "colab": {
          "base_uri": "https://localhost:8080/",
          "height": 236
        },
        "id": "kv1ZBY4sDQQd",
        "outputId": "3539f321-aff3-4cff-9969-1f86f2b02f72"
      },
      "source": [
        "X.head()"
      ],
      "execution_count": 45,
      "outputs": [
        {
          "output_type": "execute_result",
          "data": {
            "text/html": [
              "<div>\n",
              "<style scoped>\n",
              "    .dataframe tbody tr th:only-of-type {\n",
              "        vertical-align: middle;\n",
              "    }\n",
              "\n",
              "    .dataframe tbody tr th {\n",
              "        vertical-align: top;\n",
              "    }\n",
              "\n",
              "    .dataframe thead th {\n",
              "        text-align: right;\n",
              "    }\n",
              "</style>\n",
              "<table border=\"1\" class=\"dataframe\">\n",
              "  <thead>\n",
              "    <tr style=\"text-align: right;\">\n",
              "      <th></th>\n",
              "      <th>Pclass</th>\n",
              "      <th>Sex</th>\n",
              "      <th>Age</th>\n",
              "      <th>SibSp</th>\n",
              "      <th>Parch</th>\n",
              "      <th>Fare</th>\n",
              "      <th>Embarked</th>\n",
              "    </tr>\n",
              "    <tr>\n",
              "      <th>PassengerId</th>\n",
              "      <th></th>\n",
              "      <th></th>\n",
              "      <th></th>\n",
              "      <th></th>\n",
              "      <th></th>\n",
              "      <th></th>\n",
              "      <th></th>\n",
              "    </tr>\n",
              "  </thead>\n",
              "  <tbody>\n",
              "    <tr>\n",
              "      <th>1</th>\n",
              "      <td>3</td>\n",
              "      <td>male</td>\n",
              "      <td>22.0</td>\n",
              "      <td>1</td>\n",
              "      <td>0</td>\n",
              "      <td>7.2500</td>\n",
              "      <td>S</td>\n",
              "    </tr>\n",
              "    <tr>\n",
              "      <th>2</th>\n",
              "      <td>1</td>\n",
              "      <td>female</td>\n",
              "      <td>38.0</td>\n",
              "      <td>1</td>\n",
              "      <td>0</td>\n",
              "      <td>71.2833</td>\n",
              "      <td>C</td>\n",
              "    </tr>\n",
              "    <tr>\n",
              "      <th>3</th>\n",
              "      <td>3</td>\n",
              "      <td>female</td>\n",
              "      <td>26.0</td>\n",
              "      <td>0</td>\n",
              "      <td>0</td>\n",
              "      <td>7.9250</td>\n",
              "      <td>S</td>\n",
              "    </tr>\n",
              "    <tr>\n",
              "      <th>4</th>\n",
              "      <td>1</td>\n",
              "      <td>female</td>\n",
              "      <td>35.0</td>\n",
              "      <td>1</td>\n",
              "      <td>0</td>\n",
              "      <td>53.1000</td>\n",
              "      <td>S</td>\n",
              "    </tr>\n",
              "    <tr>\n",
              "      <th>5</th>\n",
              "      <td>3</td>\n",
              "      <td>male</td>\n",
              "      <td>35.0</td>\n",
              "      <td>0</td>\n",
              "      <td>0</td>\n",
              "      <td>8.0500</td>\n",
              "      <td>S</td>\n",
              "    </tr>\n",
              "  </tbody>\n",
              "</table>\n",
              "</div>"
            ],
            "text/plain": [
              "            Pclass     Sex   Age  SibSp  Parch     Fare Embarked\n",
              "PassengerId                                                     \n",
              "1                3    male  22.0      1      0   7.2500        S\n",
              "2                1  female  38.0      1      0  71.2833        C\n",
              "3                3  female  26.0      0      0   7.9250        S\n",
              "4                1  female  35.0      1      0  53.1000        S\n",
              "5                3    male  35.0      0      0   8.0500        S"
            ]
          },
          "metadata": {},
          "execution_count": 45
        }
      ]
    },
    {
      "cell_type": "code",
      "metadata": {
        "colab": {
          "base_uri": "https://localhost:8080/"
        },
        "id": "boTtB2VUDSSe",
        "outputId": "676c363a-23a5-489f-da75-f9c5e4c53e22"
      },
      "source": [
        "y.head()\n"
      ],
      "execution_count": 46,
      "outputs": [
        {
          "output_type": "execute_result",
          "data": {
            "text/plain": [
              "PassengerId\n",
              "1    0\n",
              "2    1\n",
              "3    1\n",
              "4    1\n",
              "5    0\n",
              "Name: Survived, dtype: int64"
            ]
          },
          "metadata": {},
          "execution_count": 46
        }
      ]
    },
    {
      "cell_type": "markdown",
      "metadata": {
        "id": "7xTafalS_8V1"
      },
      "source": [
        "Since there's no time series component, we should do a randomized train-validation split."
      ]
    },
    {
      "cell_type": "code",
      "metadata": {
        "id": "JbtV3_BuX2oL",
        "colab": {
          "base_uri": "https://localhost:8080/"
        },
        "outputId": "821e4fb4-00bd-4090-d051-dec6fdc97fae"
      },
      "source": [
        "# split our data into a TRAINING set and a VALIDATION set \n",
        "# test_size = validation set size (want to be 20%)\n",
        "# random_state can be any integer to see the randomness so that it can be reproducable \n",
        "X_train, X_val, y_train, y_val = train_test_split(X, y, test_size=0.2, random_state=42)\n",
        "len(X_train) + len(X_val) == len(X)"
      ],
      "execution_count": 47,
      "outputs": [
        {
          "output_type": "execute_result",
          "data": {
            "text/plain": [
              "True"
            ]
          },
          "metadata": {},
          "execution_count": 47
        }
      ]
    },
    {
      "cell_type": "markdown",
      "metadata": {
        "id": "BQ0X5kSGZtge"
      },
      "source": [
        "## III. Establish our baseline\n",
        "\n",
        "- This is a **classification problem**, so we look at the **majority class** to calculate baseline **accuracy score**."
      ]
    },
    {
      "cell_type": "code",
      "metadata": {
        "colab": {
          "base_uri": "https://localhost:8080/"
        },
        "id": "14jfIoLlF8SJ",
        "outputId": "db93766a-f955-49a7-8379-740a602ce06a"
      },
      "source": [
        "y_train.value_counts(normalize=True)\n",
        "\n"
      ],
      "execution_count": 48,
      "outputs": [
        {
          "output_type": "execute_result",
          "data": {
            "text/plain": [
              "0    0.623596\n",
              "1    0.376404\n",
              "Name: Survived, dtype: float64"
            ]
          },
          "metadata": {},
          "execution_count": 48
        }
      ]
    },
    {
      "cell_type": "code",
      "metadata": {
        "id": "jZnTAwBCvVVA",
        "colab": {
          "base_uri": "https://localhost:8080/"
        },
        "outputId": "ba18ac3b-6a32-4dea-c42e-25ed7fdf2d83"
      },
      "source": [
        "# between 0 and 1, 1 is best and 0 is worst \n",
        "print('Baseline Accuracy Score:', y_train.value_counts(normalize=True).max())"
      ],
      "execution_count": 49,
      "outputs": [
        {
          "output_type": "stream",
          "name": "stdout",
          "text": [
            "Baseline Accuracy Score: 0.6235955056179775\n"
          ]
        }
      ]
    },
    {
      "cell_type": "markdown",
      "metadata": {
        "id": "rhN5A57katzk"
      },
      "source": [
        "## IV. Build Model\n",
        "\n",
        "- Why would regular linear regression not work here?"
      ]
    },
    {
      "cell_type": "code",
      "metadata": {
        "id": "PVvpbpAjMQN8",
        "colab": {
          "base_uri": "https://localhost:8080/",
          "height": 279
        },
        "outputId": "23793fa9-a9c0-4a64-922e-90d562f5cbdf"
      },
      "source": [
        "plt.scatter(X_train['Age'], y_train)\n",
        "plt.xlabel('Age')\n",
        "plt.ylabel('Survived');\n",
        "\n",
        "# linear regression would not work because it would try to get between the two \n",
        "# lines which would always be around 0.4-0.6 and since survived is binary it \n",
        "# wouldn't be useful to determine if they survived or not "
      ],
      "execution_count": 50,
      "outputs": [
        {
          "output_type": "display_data",
          "data": {
            "image/png": "[encoded data removed]",
            "text/plain": [
              "<Figure size 432x288 with 1 Axes>"
            ]
          },
          "metadata": {
            "needs_background": "light"
          }
        }
      ]
    },
    {
      "cell_type": "markdown",
      "metadata": {
        "id": "vEbK3zKW80aN"
      },
      "source": [
        "What we need for our model pipeline:\n",
        "\n",
        "- `OneHotEncoder`\n",
        "- `SimpleImputer`\n",
        "- `LogisticRegression`"
      ]
    },
    {
      "cell_type": "code",
      "metadata": {
        "id": "HWCW8vH18z_s",
        "colab": {
          "base_uri": "https://localhost:8080/"
        },
        "outputId": "f30beee1-63ba-49c8-c8e7-32e8d0ce0fe7"
      },
      "source": [
        "X_train.info()"
      ],
      "execution_count": 51,
      "outputs": [
        {
          "output_type": "stream",
          "name": "stdout",
          "text": [
            "<class 'pandas.core.frame.DataFrame'>\n",
            "Int64Index: 712 entries, 332 to 103\n",
            "Data columns (total 7 columns):\n",
            " #   Column    Non-Null Count  Dtype  \n",
            "---  ------    --------------  -----  \n",
            " 0   Pclass    712 non-null    object \n",
            " 1   Sex       712 non-null    object \n",
            " 2   Age       572 non-null    float64\n",
            " 3   SibSp     712 non-null    int64  \n",
            " 4   Parch     712 non-null    int64  \n",
            " 5   Fare      712 non-null    float64\n",
            " 6   Embarked  710 non-null    object \n",
            "dtypes: float64(2), int64(2), object(3)\n",
            "memory usage: 44.5+ KB\n"
          ]
        }
      ]
    },
    {
      "cell_type": "code",
      "metadata": {
        "colab": {
          "base_uri": "https://localhost:8080/",
          "height": 236
        },
        "id": "A8tGlP5hIOP5",
        "outputId": "1c3a302d-dcac-4413-d220-62d4b58667a2"
      },
      "source": [
        "X_train.head()"
      ],
      "execution_count": 52,
      "outputs": [
        {
          "output_type": "execute_result",
          "data": {
            "text/html": [
              "<div>\n",
              "<style scoped>\n",
              "    .dataframe tbody tr th:only-of-type {\n",
              "        vertical-align: middle;\n",
              "    }\n",
              "\n",
              "    .dataframe tbody tr th {\n",
              "        vertical-align: top;\n",
              "    }\n",
              "\n",
              "    .dataframe thead th {\n",
              "        text-align: right;\n",
              "    }\n",
              "</style>\n",
              "<table border=\"1\" class=\"dataframe\">\n",
              "  <thead>\n",
              "    <tr style=\"text-align: right;\">\n",
              "      <th></th>\n",
              "      <th>Pclass</th>\n",
              "      <th>Sex</th>\n",
              "      <th>Age</th>\n",
              "      <th>SibSp</th>\n",
              "      <th>Parch</th>\n",
              "      <th>Fare</th>\n",
              "      <th>Embarked</th>\n",
              "    </tr>\n",
              "    <tr>\n",
              "      <th>PassengerId</th>\n",
              "      <th></th>\n",
              "      <th></th>\n",
              "      <th></th>\n",
              "      <th></th>\n",
              "      <th></th>\n",
              "      <th></th>\n",
              "      <th></th>\n",
              "    </tr>\n",
              "  </thead>\n",
              "  <tbody>\n",
              "    <tr>\n",
              "      <th>332</th>\n",
              "      <td>1</td>\n",
              "      <td>male</td>\n",
              "      <td>45.5</td>\n",
              "      <td>0</td>\n",
              "      <td>0</td>\n",
              "      <td>28.5000</td>\n",
              "      <td>S</td>\n",
              "    </tr>\n",
              "    <tr>\n",
              "      <th>734</th>\n",
              "      <td>2</td>\n",
              "      <td>male</td>\n",
              "      <td>23.0</td>\n",
              "      <td>0</td>\n",
              "      <td>0</td>\n",
              "      <td>13.0000</td>\n",
              "      <td>S</td>\n",
              "    </tr>\n",
              "    <tr>\n",
              "      <th>383</th>\n",
              "      <td>3</td>\n",
              "      <td>male</td>\n",
              "      <td>32.0</td>\n",
              "      <td>0</td>\n",
              "      <td>0</td>\n",
              "      <td>7.9250</td>\n",
              "      <td>S</td>\n",
              "    </tr>\n",
              "    <tr>\n",
              "      <th>705</th>\n",
              "      <td>3</td>\n",
              "      <td>male</td>\n",
              "      <td>26.0</td>\n",
              "      <td>1</td>\n",
              "      <td>0</td>\n",
              "      <td>7.8542</td>\n",
              "      <td>S</td>\n",
              "    </tr>\n",
              "    <tr>\n",
              "      <th>814</th>\n",
              "      <td>3</td>\n",
              "      <td>female</td>\n",
              "      <td>6.0</td>\n",
              "      <td>4</td>\n",
              "      <td>2</td>\n",
              "      <td>31.2750</td>\n",
              "      <td>S</td>\n",
              "    </tr>\n",
              "  </tbody>\n",
              "</table>\n",
              "</div>"
            ],
            "text/plain": [
              "            Pclass     Sex   Age  SibSp  Parch     Fare Embarked\n",
              "PassengerId                                                     \n",
              "332              1    male  45.5      0      0  28.5000        S\n",
              "734              2    male  23.0      0      0  13.0000        S\n",
              "383              3    male  32.0      0      0   7.9250        S\n",
              "705              3    male  26.0      1      0   7.8542        S\n",
              "814              3  female   6.0      4      2  31.2750        S"
            ]
          },
          "metadata": {},
          "execution_count": 52
        }
      ]
    },
    {
      "cell_type": "code",
      "metadata": {
        "colab": {
          "base_uri": "https://localhost:8080/"
        },
        "id": "I2RL8yG_Ino9",
        "outputId": "5fc531a8-b6b5-42e0-a065-6e2a4a5e2767"
      },
      "source": [
        "model = make_pipeline(\n",
        "    OneHotEncoder(use_cat_names=True), # encode categorical features\n",
        "    SimpleImputer(), # fill NaN values with column mean\n",
        "    StandardScaler(), # rescales all features (mean = 0, std = 1)\n",
        "    LogisticRegression()\n",
        ")\n",
        "\n",
        "model.fit(X_train, y_train)"
      ],
      "execution_count": 54,
      "outputs": [
        {
          "output_type": "stream",
          "name": "stderr",
          "text": [
            "/usr/local/lib/python3.7/dist-packages/category_encoders/utils.py:21: FutureWarning: is_categorical is deprecated and will be removed in a future version.  Use is_categorical_dtype instead\n",
            "  elif pd.api.types.is_categorical(cols):\n"
          ]
        },
        {
          "output_type": "execute_result",
          "data": {
            "text/plain": [
              "Pipeline(memory=None,\n",
              "         steps=[('onehotencoder',\n",
              "                 OneHotEncoder(cols=['Pclass', 'Sex', 'Embarked'],\n",
              "                               drop_invariant=False, handle_missing='value',\n",
              "                               handle_unknown='value', return_df=True,\n",
              "                               use_cat_names=True, verbose=0)),\n",
              "                ('simpleimputer',\n",
              "                 SimpleImputer(add_indicator=False, copy=True, fill_value=None,\n",
              "                               missing_values=nan, strategy='mean',\n",
              "                               verbose=0)),\n",
              "                ('standardscaler',\n",
              "                 StandardScaler(copy=True, with_mean=True, with_std=True)),\n",
              "                ('logisticregression',\n",
              "                 LogisticRegression(C=1.0, class_weight=None, dual=False,\n",
              "                                    fit_intercept=True, intercept_scaling=1,\n",
              "                                    l1_ratio=None, max_iter=100,\n",
              "                                    multi_class='auto', n_jobs=None,\n",
              "                                    penalty='l2', random_state=None,\n",
              "                                    solver='lbfgs', tol=0.0001, verbose=0,\n",
              "                                    warm_start=False))],\n",
              "         verbose=False)"
            ]
          },
          "metadata": {},
          "execution_count": 54
        }
      ]
    },
    {
      "cell_type": "markdown",
      "metadata": {
        "id": "ewFaW1p_etFX"
      },
      "source": [
        "## V. Check Metrics"
      ]
    },
    {
      "cell_type": "code",
      "metadata": {
        "colab": {
          "base_uri": "https://localhost:8080/"
        },
        "id": "ingeSdApIN7_",
        "outputId": "dc343d87-81c0-4d14-a0fb-43a72b8e2b80"
      },
      "source": [
        "print('Training Accuracy:', model.score(X_train, y_train))\n",
        "print('Validation Accuracy:', model.score(X_val, y_val))"
      ],
      "execution_count": 55,
      "outputs": [
        {
          "output_type": "stream",
          "name": "stdout",
          "text": [
            "Training Accuracy: 0.8075842696629213\n",
            "Validation Accuracy: 0.7988826815642458\n"
          ]
        }
      ]
    },
    {
      "cell_type": "markdown",
      "metadata": {
        "id": "HA_aQKLAJ4Sg"
      },
      "source": [
        "## VI. Communicate Results"
      ]
    },
    {
      "cell_type": "code",
      "metadata": {
        "id": "EhxohqPsesdf",
        "colab": {
          "base_uri": "https://localhost:8080/"
        },
        "outputId": "e4ae6d02-b194-4afd-fdd0-867894c077b7"
      },
      "source": [
        "# model is a pipeline and need to go into pipline and get the logistic regressor\n",
        "model.named_steps\n"
      ],
      "execution_count": 65,
      "outputs": [
        {
          "output_type": "execute_result",
          "data": {
            "text/plain": [
              "{'logisticregression': LogisticRegression(C=1.0, class_weight=None, dual=False, fit_intercept=True,\n",
              "                    intercept_scaling=1, l1_ratio=None, max_iter=100,\n",
              "                    multi_class='auto', n_jobs=None, penalty='l2',\n",
              "                    random_state=None, solver='lbfgs', tol=0.0001, verbose=0,\n",
              "                    warm_start=False),\n",
              " 'onehotencoder': OneHotEncoder(cols=['Pclass', 'Sex', 'Embarked'], drop_invariant=False,\n",
              "               handle_missing='value', handle_unknown='value', return_df=True,\n",
              "               use_cat_names=True, verbose=0),\n",
              " 'simpleimputer': SimpleImputer(add_indicator=False, copy=True, fill_value=None,\n",
              "               missing_values=nan, strategy='mean', verbose=0),\n",
              " 'standardscaler': StandardScaler(copy=True, with_mean=True, with_std=True)}"
            ]
          },
          "metadata": {},
          "execution_count": 65
        }
      ]
    },
    {
      "cell_type": "code",
      "metadata": {
        "id": "y64PC99k1INi",
        "colab": {
          "base_uri": "https://localhost:8080/"
        },
        "outputId": "f3cc1f2b-6d93-4580-f394-a20a1adb229a"
      },
      "source": [
        "coefficients = model['logisticregression'].coef_[0]\n",
        "features = model['onehotencoder'].get_feature_names()\n",
        "\n",
        "print(coefficients)\n",
        "print(features)"
      ],
      "execution_count": 67,
      "outputs": [
        {
          "output_type": "stream",
          "name": "stdout",
          "text": [
            "[ 0.37784916  0.14961476 -0.44291577 -0.6377794   0.6377794  -0.39358277\n",
            " -0.34194212 -0.10584921  0.16634861 -0.11550991  0.08985349  0.02620068\n",
            "  0.17703175]\n",
            "['Pclass_1', 'Pclass_2', 'Pclass_3', 'Sex_male', 'Sex_female', 'Age', 'SibSp', 'Parch', 'Fare', 'Embarked_S', 'Embarked_C', 'Embarked_Q', 'Embarked_nan']\n"
          ]
        }
      ]
    },
    {
      "cell_type": "code",
      "metadata": {
        "id": "NONHSbYKKyO5"
      },
      "source": [
        "feature_importance = pd.Series(coefficients, index=features).sort_values(key=abs)"
      ],
      "execution_count": 68,
      "outputs": []
    },
    {
      "cell_type": "code",
      "metadata": {
        "colab": {
          "base_uri": "https://localhost:8080/",
          "height": 265
        },
        "id": "NdjvjXsRK_Dn",
        "outputId": "b1ab4090-388a-4aa0-8317-e20741ac86e9"
      },
      "source": [
        "feature_importance.plot(kind='barh');"
      ],
      "execution_count": 71,
      "outputs": [
        {
          "output_type": "display_data",
          "data": {
            "image/png": "[encoded data removed]",
            "text/plain": [
              "<Figure size 432x288 with 1 Axes>"
            ]
          },
          "metadata": {
            "needs_background": "light"
          }
        }
      ]
    },
    {
      "cell_type": "code",
      "metadata": {
        "id": "dlYmhJoBLAFB"
      },
      "source": [
        "# shows that being female, in first class are the top two reasons for surviving \n",
        "# as your age goes up your probability for surviving goes down"
      ],
      "execution_count": null,
      "outputs": []
    },
    {
      "cell_type": "code",
      "metadata": {
        "colab": {
          "base_uri": "https://localhost:8080/"
        },
        "id": "TUeCSGykOFcB",
        "outputId": "e67f740f-a7aa-4d2d-d51c-4f62c1387f19"
      },
      "source": [
        "# predict the survivability that you would have to submit somewhere to check accuracy\n",
        "model.predict(X_test)"
      ],
      "execution_count": 72,
      "outputs": [
        {
          "output_type": "execute_result",
          "data": {
            "text/plain": [
              "array([0, 0, 0, 0, 1, 0, 1, 0, 1, 0, 0, 0, 1, 0, 1, 1, 0, 0, 1, 1, 0, 0,\n",
              "       1, 1, 1, 0, 1, 0, 0, 0, 0, 0, 0, 0, 0, 0, 1, 1, 0, 0, 0, 0, 0, 1,\n",
              "       1, 0, 0, 0, 1, 0, 0, 0, 1, 1, 0, 0, 0, 0, 0, 1, 0, 0, 0, 1, 1, 1,\n",
              "       1, 0, 1, 1, 1, 0, 1, 1, 1, 1, 0, 1, 0, 1, 0, 0, 0, 0, 0, 0, 1, 1,\n",
              "       1, 0, 1, 0, 1, 0, 1, 0, 1, 0, 1, 0, 1, 0, 0, 0, 1, 0, 0, 0, 0, 0,\n",
              "       0, 1, 1, 1, 1, 0, 0, 1, 1, 1, 1, 0, 1, 0, 0, 1, 0, 1, 0, 0, 0, 0,\n",
              "       0, 0, 0, 0, 0, 0, 1, 0, 0, 1, 0, 0, 0, 0, 0, 0, 0, 0, 1, 0, 0, 0,\n",
              "       0, 0, 1, 1, 0, 1, 1, 0, 1, 0, 0, 1, 0, 0, 1, 1, 0, 0, 0, 0, 0, 1,\n",
              "       1, 0, 1, 1, 0, 0, 1, 0, 1, 0, 1, 0, 0, 0, 0, 0, 0, 0, 0, 0, 1, 1,\n",
              "       0, 1, 1, 0, 0, 1, 0, 1, 1, 0, 1, 0, 0, 0, 0, 1, 0, 0, 1, 0, 1, 0,\n",
              "       1, 0, 1, 0, 1, 1, 0, 1, 0, 0, 0, 1, 0, 0, 0, 0, 0, 0, 1, 1, 1, 1,\n",
              "       0, 0, 0, 0, 1, 0, 1, 1, 1, 0, 1, 0, 0, 0, 0, 0, 1, 0, 0, 0, 1, 1,\n",
              "       0, 0, 0, 0, 1, 0, 0, 0, 1, 1, 0, 1, 0, 0, 0, 0, 1, 0, 1, 1, 1, 0,\n",
              "       0, 0, 0, 0, 0, 1, 0, 0, 0, 0, 1, 0, 0, 0, 0, 0, 0, 0, 1, 1, 0, 0,\n",
              "       0, 0, 0, 0, 0, 1, 1, 1, 0, 0, 0, 0, 0, 0, 0, 0, 1, 0, 1, 0, 0, 0,\n",
              "       1, 0, 0, 1, 0, 0, 0, 0, 0, 0, 0, 0, 0, 1, 0, 1, 0, 1, 0, 1, 1, 0,\n",
              "       0, 0, 1, 0, 1, 0, 0, 1, 0, 1, 1, 0, 1, 0, 0, 1, 1, 0, 0, 1, 0, 0,\n",
              "       1, 1, 1, 0, 0, 0, 0, 0, 1, 1, 0, 1, 0, 0, 0, 0, 0, 1, 0, 0, 0, 1,\n",
              "       0, 1, 0, 0, 1, 0, 1, 1, 0, 0, 0, 0, 1, 1, 1, 1, 1, 0, 1, 0, 0, 0])"
            ]
          },
          "metadata": {},
          "execution_count": 72
        }
      ]
    }
  ]
}